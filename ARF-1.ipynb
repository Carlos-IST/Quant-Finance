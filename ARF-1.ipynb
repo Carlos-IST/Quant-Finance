{
 "cells": [
  {
   "cell_type": "markdown",
   "metadata": {},
   "source": [
    "# Financial Risk Management\n",
    "\n",
    "### By Carlos Santillán\n",
    "\n",
    "#### Start date: September 20, 2019\n",
    "#### 2nd Date: April 15, 2020"
   ]
  },
  {
   "cell_type": "markdown",
   "metadata": {},
   "source": [
    "This notebook is written with the purpose of becoming a repository of useful algorithms used in Financial Risk Management. The language chosen for this notebook is Python, everything will be developed using this language.\n",
    "\n",
    "The ultimate purpose of this notebook is to become an Interactive Dashboard for Financial Risk Management."
   ]
  },
  {
   "cell_type": "markdown",
   "metadata": {},
   "source": [
    "## Table of Contents"
   ]
  },
  {
   "cell_type": "markdown",
   "metadata": {},
   "source": [
    "To be written"
   ]
  },
  {
   "cell_type": "markdown",
   "metadata": {},
   "source": [
    "## Import Block"
   ]
  },
  {
   "cell_type": "code",
   "execution_count": 49,
   "metadata": {},
   "outputs": [
    {
     "name": "stdout",
     "output_type": "stream",
     "text": [
      "Requirement already satisfied: pandas_datareader in c:\\programdata\\anaconda3\\lib\\site-packages (0.8.1)\n",
      "Requirement already satisfied: pandas>=0.21 in c:\\programdata\\anaconda3\\lib\\site-packages (from pandas_datareader) (0.24.2)\n",
      "Requirement already satisfied: lxml in c:\\programdata\\anaconda3\\lib\\site-packages (from pandas_datareader) (4.3.4)\n",
      "Requirement already satisfied: requests>=2.3.0 in c:\\programdata\\anaconda3\\lib\\site-packages (from pandas_datareader) (2.22.0)\n",
      "Requirement already satisfied: python-dateutil>=2.5.0 in c:\\programdata\\anaconda3\\lib\\site-packages (from pandas>=0.21->pandas_datareader) (2.8.0)\n",
      "Requirement already satisfied: numpy>=1.12.0 in c:\\programdata\\anaconda3\\lib\\site-packages (from pandas>=0.21->pandas_datareader) (1.16.4)\n",
      "Requirement already satisfied: pytz>=2011k in c:\\programdata\\anaconda3\\lib\\site-packages (from pandas>=0.21->pandas_datareader) (2019.1)\n",
      "Requirement already satisfied: chardet<3.1.0,>=3.0.2 in c:\\programdata\\anaconda3\\lib\\site-packages (from requests>=2.3.0->pandas_datareader) (3.0.4)\n",
      "Requirement already satisfied: idna<2.9,>=2.5 in c:\\programdata\\anaconda3\\lib\\site-packages (from requests>=2.3.0->pandas_datareader) (2.8)\n",
      "Requirement already satisfied: certifi>=2017.4.17 in c:\\programdata\\anaconda3\\lib\\site-packages (from requests>=2.3.0->pandas_datareader) (2019.6.16)\n",
      "Requirement already satisfied: urllib3!=1.25.0,!=1.25.1,<1.26,>=1.21.1 in c:\\programdata\\anaconda3\\lib\\site-packages (from requests>=2.3.0->pandas_datareader) (1.24.2)\n",
      "Requirement already satisfied: six>=1.5 in c:\\programdata\\anaconda3\\lib\\site-packages (from python-dateutil>=2.5.0->pandas>=0.21->pandas_datareader) (1.12.0)\n"
     ]
    }
   ],
   "source": [
    "import numpy as np                  # Vectores \n",
    "import pandas as pd                 # DataFrames \n",
    "import matplotlib.pyplot as plt     # Gráficas \n",
    "import math                         # Operaciones \n",
    "import seaborn as sns               # Gráficos y controles de Scrapping \n",
    "import random                       # Muestreos aleatorios \n",
    "import quandl                       # Datasets financieros \n",
    "import yahoo_finance                # Acceso a Yahoo Finanzas \n",
    "from scipy import stats             # Paquetería estadística \n",
    "from scipy.stats import kstest      # Prueba de Kolmogorov-Smirnov \n",
    "from scipy.stats import beta        # Distribución Beta \n",
    "from scipy.stats import expon       # Distribución Exponencial \n",
    "from scipy.stats import uniform     # Distribución uniforme \n",
    "from scipy.stats import norm        # Distribución normal \n",
    "from scipy.stats import binom       # Distribución Binomial \n",
    "\n",
    "### This part is a substitute of istalling directly from promt\n",
    "import pip \n",
    "from pip._internal import main \n",
    "main(['install', 'pandas_datareader']) \n",
    "#main(['install', 'fix_yahoo_finance']) \n",
    "from pandas_datareader import data as web \n",
    "#import fix_yahoo_finance \n",
    "\n",
    "%matplotlib inline "
   ]
  },
  {
   "cell_type": "markdown",
   "metadata": {},
   "source": [
    "## 1. VaR"
   ]
  },
  {
   "cell_type": "markdown",
   "metadata": {},
   "source": [
    "For this 1st part, I´m going to calculate the **parametric VaR** as well as the **Empirical VaR** of a dataset obtained from Yahoo.\n",
    " "
   ]
  },
  {
   "cell_type": "markdown",
   "metadata": {},
   "source": [
    "In this case, let us use **Swiss Re (SREN.SW)** stock price. \n",
    "\n",
    "We will also ask for the user to input the dates he wants to get data from:"
   ]
  },
  {
   "cell_type": "code",
   "execution_count": 50,
   "metadata": {},
   "outputs": [],
   "source": [
    "def get_quote_data():\n",
    "    '''\n",
    "    User will be prompted for quote, start and end date for the price series.\n",
    "    quote should be introduced as string\n",
    "    Dates should have format yyyy-mm-dd\n",
    "    Dates will be entered as string and then transformed into datetime type\n",
    "    Column 'Adj Close' will be renamed to 'adj_close'\n",
    "    Output: dataframe with quote's financial data in the selected date range\n",
    "    '''\n",
    "    quote = input(\"Please enter the quote of the company of your interest: \")\n",
    "    start_Date = input(\"Please enter start date for price series (format should be yyyy-mm-dd): \")\n",
    "    end_Date = input(\"Please enter end date for price series (format should be yyyy-mm-dd): \")\n",
    "    \n",
    "    start_Date_Datetime = pd.to_datetime(start_Date)     \n",
    "    end_Date_Datetime = pd.to_datetime(end_Date)\n",
    "\n",
    "    dataFrame = web.get_data_yahoo(quote, start_Date_Datetime, end_Date_Datetime)\n",
    "    \n",
    "    dataFrame.rename(columns = {'Adj Close': 'adj_close'}, inplace=True)\n",
    "    \n",
    "    print(\"You selected \" + quote + \" as the company you want to download data from\")\n",
    "    print(\"You selected \" + start_Date + \" as starting date\")\n",
    "    print(\"You selected \" + end_Date + \" as ending date\")\n",
    "    print(\"Here are the first 5 records of your data:\")\n",
    "    print(dataFrame.head())\n",
    "    \n",
    "    return dataFrame\n"
   ]
  },
  {
   "cell_type": "code",
   "execution_count": 51,
   "metadata": {},
   "outputs": [
    {
     "name": "stdout",
     "output_type": "stream",
     "text": [
      "Please enter the quote of the company of your interest: SREN.SW\n",
      "Please enter start date for price series (format should be yyyy-mm-dd): 2019-04-15\n",
      "Please enter end date for price series (format should be yyyy-mm-dd): 2020-04-15\n",
      "You selected SREN.SW as the company you want to download data from\n",
      "You selected 2019-04-15 as starting date\n",
      "You selected 2020-04-15 as ending date\n",
      "Here are the first 5 records of your data:\n",
      "                  High         Low        Open       Close     Volume  \\\n",
      "Date                                                                    \n",
      "2019-04-15  100.849998   99.559998   99.559998  100.849998  1556284.0   \n",
      "2019-04-16  102.099998  100.500000  100.500000  102.099998  2045818.0   \n",
      "2019-04-17  102.849998  101.699997  101.800003  102.699997  1348122.0   \n",
      "2019-04-18  102.949997  101.800003  102.750000  102.849998  2585755.0   \n",
      "2019-04-23   98.459999   97.440002   98.040001   98.040001  3553079.0   \n",
      "\n",
      "            adj_close  \n",
      "Date                   \n",
      "2019-04-15  95.358894  \n",
      "2019-04-16  96.540833  \n",
      "2019-04-17  97.108162  \n",
      "2019-04-18  97.250000  \n",
      "2019-04-23  98.040001  \n"
     ]
    }
   ],
   "source": [
    "df = get_quote_data()"
   ]
  },
  {
   "cell_type": "markdown",
   "metadata": {},
   "source": [
    "Now that we have our data, it would be useful to visualize 'Close' and 'Adj Close':"
   ]
  },
  {
   "cell_type": "code",
   "execution_count": 65,
   "metadata": {},
   "outputs": [],
   "source": [
    "def plot_close(dataFrame):\n",
    "    '''\n",
    "    For any given dataframe, plot columns Close and adj_close\n",
    "    Output: Plot of Close vs Adj Close\n",
    "    '''\n",
    "    plt.plot(dataFrame.index, df['Close'], '-r', label = 'Close')\n",
    "    plt.plot(dataFrame.index, df['adj_close'], '-b', label = 'Adj Close')\n",
    "    plt.legend(loc='upper left')\n",
    "    plt.title(\"Adjusted Close vs. Close\")\n",
    "\n",
    "    return \n"
   ]
  },
  {
   "cell_type": "code",
   "execution_count": 66,
   "metadata": {},
   "outputs": [
    {
     "data": {
      "image/png": "[encoded data removed]",
      "text/plain": [
       "<Figure size 432x288 with 1 Axes>"
      ]
     },
     "metadata": {
      "needs_background": "light"
     },
     "output_type": "display_data"
    }
   ],
   "source": [
    "plot_close(df)"
   ]
  },
  {
   "cell_type": "markdown",
   "metadata": {},
   "source": [
    "For our calculations, we will be using the **Adj Close** column. Using the Ajusted value at Close is convenient for the following reasons:\n",
    "\n",
    "- Corporate matters (SPLIT)\n",
    "\n",
    "- Dividends\n",
    "\n",
    "- Decrease stock price in order to issu more stocks\n",
    "\n",
    "- Decrease volume of stocks, hence increasing stock price\n",
    "\n",
    "- It is calculated as the average of the last 3 hours"
   ]
  },
  {
   "cell_type": "markdown",
   "metadata": {},
   "source": [
    "Now it's time to calculate our returns. This can be done in 2 different ways:\n",
    "\n",
    "1. Simple returns\n",
    "2. Logarithmic returns\n",
    "\n",
    "What's the difference between them?\n",
    "\n",
    "For instance, the formula for **Simple returns is as follows**\n",
    "\n",
    "$$R_{t+1} = \\frac{Price_{t+1}}{Price_{t}} -1 $$\n",
    "\n",
    "and the formula for **Logarithmic returns** is as follows:\n",
    "\n",
    "$$R_{t+1}ln = ln(\\frac{Price_{t+1}}{Price_{t}}) $$\n",
    "\n",
    "\n",
    "So, as you can see, Simple Returns is actually just looking at the difference in percentage between the two values, current and past price, whereas Logarithmic Returns gets the natural logarithm of the quotient of both.\n",
    "\n",
    "For convenience we will calculate both, but for the rest of our calculations we will use Logarithmic Returns.\n",
    "\n",
    "Why? Because returns calculated that way allow us to use properly the **Black-Scholes Formula**"
   ]
  },
  {
   "cell_type": "markdown",
   "metadata": {},
   "source": [
    "Notice that in this format of dataframe, our 'Adj Close' column is always in the 6th position, hence we can make a reference to it using *.iloc[]* with the index 5 (since Python begins enumerating from 0)"
   ]
  },
  {
   "cell_type": "code",
   "execution_count": 52,
   "metadata": {},
   "outputs": [],
   "source": [
    "def calculate_returns(dataFrame):\n",
    "    '''\n",
    "    Input: dataframe with financial data\n",
    "    Column with Adj Close must be in the 6th position if it is to be referenced with .iloc\n",
    "    Calculate simple returns of Adj Close\n",
    "    Calculate logarithmic returns of Adj Close\n",
    "    Output: dataframe with 2 additional columns\n",
    "    '''\n",
    "    \n",
    "    ### Get adj_close as a Numpy array\n",
    "    adj_Close_np = np.asarray(dataFrame['adj_close'])\n",
    "    \n",
    "    ### Construct return arrays, with dimension of adf_close -1\n",
    "    simple_Returns = np.zeros(len(adj_Close_np) - 1)\n",
    "    log_Returns = np.zeros(len(adj_Close_np) - 1)\n",
    "    \n",
    "    ### Calculate simple and log returns\n",
    "    for i in range(len(adj_Close_np) - 1):\n",
    "        simple_Returns[i] = (adj_Close_np[i+1] / adj_Close_np[i]) - 1\n",
    "        log_Returns[i] = np.log(adj_Close_np[i+1] / adj_Close_np[i])\n",
    "    \n",
    "    ### Convert returns to Pandas Series\n",
    "    simple_Returns_pd = pd.Series(simple_Returns)\n",
    "    log_Returns_pd = pd.Series(log_Returns)\n",
    "    \n",
    "    ### For our columns to be included, we need both dataframes to have the same index\n",
    "    ### so we will turn 'Date' into a column and then we´ll return it as index\n",
    "    dataFrame.reset_index(inplace=True,drop=False)\n",
    "    \n",
    "    ### Duplicate Date column in order to have one as well as the index\n",
    "    dataFrame['date_col'] = dataFrame['Date']\n",
    "    \n",
    "    ### Include return´s series in dataframe\n",
    "    dataFrame['simple_returns'] = simple_Returns_pd\n",
    "    dataFrame['log_returns'] = log_Returns_pd\n",
    "    \n",
    "    ### Shift returns columns 1 space below\n",
    "    dataFrame['simple_returns'] = dataFrame['simple_returns'].shift(+1)\n",
    "    dataFrame['log_returns'] = dataFrame['log_returns'].shift(+1)\n",
    "    \n",
    "    ### Return Date column to index\n",
    "    dataFrame = dataFrame.set_index('Date')\n",
    "    \n",
    "    return dataFrame"
   ]
  },
  {
   "cell_type": "code",
   "execution_count": 53,
   "metadata": {},
   "outputs": [
    {
     "data": {
      "text/html": [
       "<div>\n",
       "<style scoped>\n",
       "    .dataframe tbody tr th:only-of-type {\n",
       "        vertical-align: middle;\n",
       "    }\n",
       "\n",
       "    .dataframe tbody tr th {\n",
       "        vertical-align: top;\n",
       "    }\n",
       "\n",
       "    .dataframe thead th {\n",
       "        text-align: right;\n",
       "    }\n",
       "</style>\n",
       "<table border=\"1\" class=\"dataframe\">\n",
       "  <thead>\n",
       "    <tr style=\"text-align: right;\">\n",
       "      <th></th>\n",
       "      <th>High</th>\n",
       "      <th>Low</th>\n",
       "      <th>Open</th>\n",
       "      <th>Close</th>\n",
       "      <th>Volume</th>\n",
       "      <th>adj_close</th>\n",
       "      <th>date_col</th>\n",
       "      <th>simple_returns</th>\n",
       "      <th>log_returns</th>\n",
       "    </tr>\n",
       "    <tr>\n",
       "      <th>Date</th>\n",
       "      <th></th>\n",
       "      <th></th>\n",
       "      <th></th>\n",
       "      <th></th>\n",
       "      <th></th>\n",
       "      <th></th>\n",
       "      <th></th>\n",
       "      <th></th>\n",
       "      <th></th>\n",
       "    </tr>\n",
       "  </thead>\n",
       "  <tbody>\n",
       "    <tr>\n",
       "      <th>2019-04-15</th>\n",
       "      <td>100.849998</td>\n",
       "      <td>99.559998</td>\n",
       "      <td>99.559998</td>\n",
       "      <td>100.849998</td>\n",
       "      <td>1556284.0</td>\n",
       "      <td>95.358894</td>\n",
       "      <td>2019-04-15</td>\n",
       "      <td>NaN</td>\n",
       "      <td>NaN</td>\n",
       "    </tr>\n",
       "    <tr>\n",
       "      <th>2019-04-16</th>\n",
       "      <td>102.099998</td>\n",
       "      <td>100.500000</td>\n",
       "      <td>100.500000</td>\n",
       "      <td>102.099998</td>\n",
       "      <td>2045818.0</td>\n",
       "      <td>96.540833</td>\n",
       "      <td>2019-04-16</td>\n",
       "      <td>0.012395</td>\n",
       "      <td>0.012318</td>\n",
       "    </tr>\n",
       "    <tr>\n",
       "      <th>2019-04-17</th>\n",
       "      <td>102.849998</td>\n",
       "      <td>101.699997</td>\n",
       "      <td>101.800003</td>\n",
       "      <td>102.699997</td>\n",
       "      <td>1348122.0</td>\n",
       "      <td>97.108162</td>\n",
       "      <td>2019-04-17</td>\n",
       "      <td>0.005877</td>\n",
       "      <td>0.005859</td>\n",
       "    </tr>\n",
       "    <tr>\n",
       "      <th>2019-04-18</th>\n",
       "      <td>102.949997</td>\n",
       "      <td>101.800003</td>\n",
       "      <td>102.750000</td>\n",
       "      <td>102.849998</td>\n",
       "      <td>2585755.0</td>\n",
       "      <td>97.250000</td>\n",
       "      <td>2019-04-18</td>\n",
       "      <td>0.001461</td>\n",
       "      <td>0.001460</td>\n",
       "    </tr>\n",
       "    <tr>\n",
       "      <th>2019-04-23</th>\n",
       "      <td>98.459999</td>\n",
       "      <td>97.440002</td>\n",
       "      <td>98.040001</td>\n",
       "      <td>98.040001</td>\n",
       "      <td>3553079.0</td>\n",
       "      <td>98.040001</td>\n",
       "      <td>2019-04-23</td>\n",
       "      <td>0.008123</td>\n",
       "      <td>0.008091</td>\n",
       "    </tr>\n",
       "  </tbody>\n",
       "</table>\n",
       "</div>"
      ],
      "text/plain": [
       "                  High         Low        Open       Close     Volume  \\\n",
       "Date                                                                    \n",
       "2019-04-15  100.849998   99.559998   99.559998  100.849998  1556284.0   \n",
       "2019-04-16  102.099998  100.500000  100.500000  102.099998  2045818.0   \n",
       "2019-04-17  102.849998  101.699997  101.800003  102.699997  1348122.0   \n",
       "2019-04-18  102.949997  101.800003  102.750000  102.849998  2585755.0   \n",
       "2019-04-23   98.459999   97.440002   98.040001   98.040001  3553079.0   \n",
       "\n",
       "            adj_close   date_col  simple_returns  log_returns  \n",
       "Date                                                           \n",
       "2019-04-15  95.358894 2019-04-15             NaN          NaN  \n",
       "2019-04-16  96.540833 2019-04-16        0.012395     0.012318  \n",
       "2019-04-17  97.108162 2019-04-17        0.005877     0.005859  \n",
       "2019-04-18  97.250000 2019-04-18        0.001461     0.001460  \n",
       "2019-04-23  98.040001 2019-04-23        0.008123     0.008091  "
      ]
     },
     "execution_count": 53,
     "metadata": {},
     "output_type": "execute_result"
    }
   ],
   "source": [
    "df2 = calculate_returns(df)\n",
    "df2.head()"
   ]
  },
  {
   "cell_type": "markdown",
   "metadata": {},
   "source": [
    "Now it would be useful to visualize the distribution of our returns:"
   ]
  },
  {
   "cell_type": "code",
   "execution_count": 76,
   "metadata": {},
   "outputs": [],
   "source": [
    "def plot_returns_distribution(dataFrame):\n",
    "    '''\n",
    "    For a given Dataframe, plot the distribution of the log_returns\n",
    "    Output: Plot of frequencies \n",
    "    '''\n",
    "    returns = np.asarray(dataFrame['log_returns'])          ### turn column into numpy array\n",
    "    returns = returns[np.logical_not(np.isnan(returns))]    ### remove NaN values from array\n",
    "    \n",
    "    sns.distplot(returns)\n",
    "    plt.title(\"Distribution of Log Returns\")\n",
    "    \n",
    "    return "
   ]
  },
  {
   "cell_type": "code",
   "execution_count": 77,
   "metadata": {},
   "outputs": [
    {
     "data": {
      "image/png": "[encoded data removed]",
      "text/plain": [
       "<Figure size 432x288 with 1 Axes>"
      ]
     },
     "metadata": {
      "needs_background": "light"
     },
     "output_type": "display_data"
    }
   ],
   "source": [
    "plot_returns_distribution(df2)"
   ]
  },
  {
   "cell_type": "markdown",
   "metadata": {},
   "source": [
    "We can now proceed to calculate **Parametric VaR**.\n",
    "\n",
    "For this, it will be necessary to calculate the mean $\\mu$ and the standard deviation $\\sigma$ of our log returns, as well as to prompt user for the value of the position taken:\n"
   ]
  },
  {
   "cell_type": "code",
   "execution_count": 86,
   "metadata": {},
   "outputs": [],
   "source": [
    "def get_parametric_VaR(dataFrame):\n",
    "    '''\n",
    "    For a given dataframe, we will calculate the Parametric VaR\n",
    "    Calculates mean of log returns\n",
    "    Calculates standard deviation of log returns\n",
    "    Prompts user for position value\n",
    "    Calculates negative and positive VaR\n",
    "    Quantiles considered will be 95%, 99.5% and 99.9%\n",
    "    Output: table with mean, stdev, value position and VaR in negative and positive values\n",
    "    '''\n",
    "    \n",
    "    ### Prompt user for position value\n",
    "    position_Value = input(\"Enter value of position taken (no commas)\")\n",
    "    print(\"Position value is: \" + position_Value)\n",
    "    \n",
    "    ### Covnert position value to float\n",
    "    position_Value = float(position_Value)\n",
    "    \n",
    "    ### Calculate mean and stdev of log-returns\n",
    "    mean_Returns = dataFrame['log_returns'].mean()\n",
    "    stdev_Returns = dataFrame['log_returns'].std()\n",
    "    \n",
    "    ### Calculate inverse of normal distribution (quantile function)\n",
    "    z_95 = norm.ppf(0.95)\n",
    "    z_995 = norm.ppf(0.995)\n",
    "    z_999 = norm.ppf(0.999)\n",
    "    \n",
    "    ### Calculate Negative VaR\n",
    "    neg_VaR_95 = mean_Returns - (z_95 * stdev_Returns)\n",
    "    neg_VaR_995 = mean_Returns - (z_995 * stdev_Returns)\n",
    "    neg_VaR_999 = mean_Returns - (z_999 * stdev_Returns)\n",
    "    \n",
    "    ### Calculate Positive VaR\n",
    "    pos_VaR_95 = mean_Returns + (z_95 * stdev_Returns)\n",
    "    pos_VaR_995 = mean_Returns + (z_995 * stdev_Returns)\n",
    "    pos_VaR_999 = mean_Returns + (z_999 * stdev_Returns)\n",
    "    \n",
    "    ### Calculate VaR in terms of Position Value\n",
    "    neg_Value_VaR_95 = neg_VaR_95 * position_Value\n",
    "    neg_Value_VaR_995 = neg_VaR_995 * position_Value\n",
    "    neg_Value_VaR_999 = neg_VaR_999 * position_Value\n",
    "    pos_Value_VaR_95 = pos_VaR_95 * position_Value\n",
    "    pos_Value_VaR_995 = pos_VaR_995 * position_Value\n",
    "    pos_Value_VaR_999 = pos_VaR_999 * position_Value\n",
    "    \n",
    "    ### Convert VaR into percentage\n",
    "    neg_VaR_95 = neg_VaR_95 * 100\n",
    "    neg_VaR_995 = neg_VaR_995 * 100\n",
    "    neg_VaR_999 = neg_VaR_999 * 100\n",
    "    pos_VaR_95 = pos_VaR_95 * 100\n",
    "    pos_VaR_995 = pos_VaR_995 * 100\n",
    "    pos_VaR_999 = pos_VaR_999 * 100\n",
    "    \n",
    "    ### Print mean and stdev\n",
    "    print(\"The mean of our returns is: \" + str(mean_Returns))\n",
    "    print(\"The stdev of our returns is: \" + str(stdev_Returns))\n",
    "    \n",
    "    ### Display VaR in 2 different dataframes, one for negative and the other for positive\n",
    "    column_Names = ['95%', '99.5%', '99.9%']                     ### declare names for the columns \n",
    "    neg_index_Names = ['Zq', '-VaR(1-q)', '-VaR in Value']       ### row names for negative VaR\n",
    "    pos_index_Names = ['Zq', '+VaR(1-q)', '+VaR in Value']       ### row names for positive VaR\n",
    "    \n",
    "    dfObj_Negative = pd.DataFrame(columns = column_Names, index = neg_index_Names)     ### empty dataframe\n",
    "    dfObj_Positive = pd.DataFrame(columns = column_Names, index = pos_index_Names)     ### empty dataframe\n",
    "    \n",
    "    zq_list = [z_95, z_995, z_999]\n",
    "    neg_VaR_list = [neg_VaR_95, neg_VaR_995, neg_VaR_999]\n",
    "    neg_Value_list = [neg_Value_VaR_95, neg_Value_VaR_995, neg_Value_VaR_999]\n",
    "    pos_VaR_list = [pos_VaR_95, pos_VaR_995, pos_VaR_999]\n",
    "    pos_Value_list = [pos_Value_VaR_95, pos_Value_VaR_995, pos_Value_VaR_999]\n",
    "    \n",
    "    ### Append rows to empty dataframes\n",
    "    dfObj_Negative.loc['Zq'] = zq_list\n",
    "    dfObj_Negative.loc['-VaR(1-q)'] = neg_VaR_list\n",
    "    dfObj_Negative.loc['-VaR in Value'] = neg_Value_list\n",
    "    dfObj_Positive.loc['Zq'] = zq_list\n",
    "    dfObj_Positive.loc['+VaR(1-q)'] = pos_VaR_list\n",
    "    dfObj_Positive.loc['+VaR in Value'] = pos_Value_list\n",
    "    \n",
    "    print(dfObj_Negative)\n",
    "    print(dfObj_Positive)\n",
    "    \n",
    "    return neg_VaR_list, pos_VaR_list\n",
    "    "
   ]
  },
  {
   "cell_type": "code",
   "execution_count": 87,
   "metadata": {},
   "outputs": [
    {
     "name": "stdout",
     "output_type": "stream",
     "text": [
      "Enter value of position taken (no commas)1000000\n",
      "Position value is: 1000000\n",
      "The mean of our returns is: -0.0009399393829026435\n",
      "The stdev of our returns is: 0.023033482486143123\n",
      "                   95%    99.5%    99.9%\n",
      "Zq             1.64485  2.57583  3.09023\n",
      "-VaR(1-q)     -3.88266 -6.02703 -7.21188\n",
      "-VaR in Value -38826.6 -60270.3 -72118.8\n",
      "                   95%    99.5%    99.9%\n",
      "Zq             1.64485  2.57583  3.09023\n",
      "+VaR(1-q)      3.69468  5.83904  7.02389\n",
      "+VaR in Value  36946.8  58390.4  70238.9\n"
     ]
    },
    {
     "data": {
      "text/plain": [
       "([-3.882664659155837, -6.0270258533490475, -7.211875108513264],\n",
       " [3.694676782575309, 5.83903797676852, 7.023887231932736])"
      ]
     },
     "execution_count": 87,
     "metadata": {},
     "output_type": "execute_result"
    }
   ],
   "source": [
    "get_parametric_VaR(df2)"
   ]
  },
  {
   "cell_type": "markdown",
   "metadata": {},
   "source": [
    "For contrasting purposes, it would be nice to also get our **Empirical VaR**:"
   ]
  },
  {
   "cell_type": "code",
   "execution_count": 88,
   "metadata": {},
   "outputs": [],
   "source": [
    "def get_empirical_VaR(dataFrame):\n",
    "    '''\n",
    "    For a given dataframe, calculate Empirical VaR\n",
    "    Calculate VaR for 95%, 99.5% and 99.9% confidence levels\n",
    "    User will be prompted for position value\n",
    "    '''\n",
    "    ### Prompt user for position value\n",
    "    position_Value = input(\"Enter value of position taken (no commas)\")\n",
    "    print(\"Position value is: \" + position_Value)\n",
    "    \n",
    "    ### Covnert position value to float\n",
    "    position_Value = float(position_Value)\n",
    "    \n",
    "    ### Get quantile of log returns\n",
    "    neg_Empirical_VaR_95 = (dataFrame['log_returns'].quantile(1 - 0.95)) * 100\n",
    "    neg_Empirical_VaR_995 = (dataFrame['log_returns'].quantile(1 - 0.995)) * 100\n",
    "    neg_Empirical_VaR_999 = (dataFrame['log_returns'].quantile(1 - 0.999)) * 100\n",
    "    pos_Empirical_VaR_95 = (dataFrame['log_returns'].quantile(0.95)) * 100\n",
    "    pos_Empirical_VaR_995 = (dataFrame['log_returns'].quantile(0.995)) * 100\n",
    "    pos_Empirical_VaR_999 = (dataFrame['log_returns'].quantile(0.999)) * 100\n",
    "    \n",
    "    ### Create lists of resulting VaR\n",
    "    neg_Empirical_VaR_list = [neg_Empirical_VaR_95, neg_Empirical_VaR_995, neg_Empirical_VaR_999]\n",
    "    pos_Empirical_VaR_list = [pos_Empirical_VaR_95, pos_Empirical_VaR_995, pos_Empirical_VaR_999]\n",
    "    \n",
    "    ### Generate VaR in terms of value\n",
    "    neg_Value_95 = (neg_Empirical_VaR_95 * position_Value) / 100\n",
    "    neg_Value_995 = (neg_Empirical_VaR_995 * position_Value) / 100\n",
    "    neg_Value_999 = (neg_Empirical_VaR_999 * position_Value) / 100\n",
    "    pos_Value_95 = (pos_Empirical_VaR_95 * position_Value) / 100\n",
    "    pos_Value_995 = (pos_Empirical_VaR_995 * position_Value) / 100\n",
    "    pos_Value_999 = (pos_Empirical_VaR_999 * position_Value) / 100\n",
    "    \n",
    "    ### Create list of resulting VaR in values\n",
    "    neg_Value_list = [neg_Value_95, neg_Value_995, neg_Value_999]\n",
    "    pos_Value_list = [pos_Value_95, pos_Value_995, pos_Value_999]\n",
    "    \n",
    "    ### Display VaR in 2 different dataframes, one for negative and the other for positive\n",
    "    column_Names = ['95%', '99.5%', '99.9%']               ### declare names for the columns \n",
    "    neg_index_Names = ['-VaR(1-q)', '-VaR in Value']       ### row names for negative VaR\n",
    "    pos_index_Names = ['+VaR(1-q)', '+VaR in Value']       ### row names for positive VaR\n",
    "    \n",
    "    dfObj_Negative = pd.DataFrame(columns = column_Names, index = neg_index_Names)     ### empty dataframe\n",
    "    dfObj_Positive = pd.DataFrame(columns = column_Names, index = pos_index_Names)     ### empty dataframe\n",
    "    \n",
    "    ### Fill dataframes\n",
    "    dfObj_Negative.loc['-VaR(1-q)'] = neg_Empirical_VaR_list\n",
    "    dfObj_Negative.loc['-VaR in Value'] = neg_Value_list\n",
    "    dfObj_Positive.loc['+VaR(1-q)'] = pos_Empirical_VaR_list\n",
    "    dfObj_Positive.loc['+VaR in Value'] = pos_Value_list\n",
    "    \n",
    "    print(dfObj_Negative)\n",
    "    print(dfObj_Positive)\n",
    "    \n",
    "    return neg_Empirical_VaR_list, pos_Empirical_VaR_list\n",
    "    \n",
    "    "
   ]
  },
  {
   "cell_type": "code",
   "execution_count": 89,
   "metadata": {},
   "outputs": [
    {
     "name": "stdout",
     "output_type": "stream",
     "text": [
      "Enter value of position taken (no commas)1000000\n",
      "Position value is: 1000000\n",
      "                   95%    99.5%    99.9%\n",
      "-VaR(1-q)     -3.05174 -10.9527 -15.6691\n",
      "-VaR in Value -30517.4  -109527  -156691\n",
      "                   95%    99.5%    99.9%\n",
      "+VaR(1-q)      1.78684  6.16069  13.1879\n",
      "+VaR in Value  17868.4  61606.9   131879\n"
     ]
    },
    {
     "data": {
      "text/plain": [
       "([-3.051742516140344, -10.952660607525042, -15.669107462141941],\n",
       " [1.7868394912520413, 6.160690459071599, 13.187903898960455])"
      ]
     },
     "execution_count": 89,
     "metadata": {},
     "output_type": "execute_result"
    }
   ],
   "source": [
    "get_empirical_VaR(df2)"
   ]
  },
  {
   "cell_type": "markdown",
   "metadata": {},
   "source": [
    "So what have we actually gotten?\n",
    "\n",
    "Well, let's talk abut how shouldour calculations be interpreted. For instance, letus look at our **Parametric VaR** results, particularly at the value for 95% confidence in the row '-VaR(1-q)'.\n",
    "\n",
    "We can observe the value $-3.88266$, let us also remember that we´re looking at daily data. So, we should interpret this as:\n",
    "\n",
    "- With a confidence of 95% (i.e. with a probability of 5%) the worst scenario we can observe in a day (auming no intra-day trading) is that our stock looses $3.88266%$, \n",
    "\n",
    "- or in terms of the value of our position (in this case, $1,000,000$ CHF) we can loose up to $38,826$ CHF"
   ]
  },
  {
   "cell_type": "code",
   "execution_count": null,
   "metadata": {},
   "outputs": [],
   "source": []
  },
  {
   "cell_type": "code",
   "execution_count": null,
   "metadata": {},
   "outputs": [],
   "source": []
  },
  {
   "cell_type": "code",
   "execution_count": null,
   "metadata": {},
   "outputs": [],
   "source": []
  },
  {
   "cell_type": "code",
   "execution_count": null,
   "metadata": {},
   "outputs": [],
   "source": []
  },
  {
   "cell_type": "code",
   "execution_count": null,
   "metadata": {},
   "outputs": [],
   "source": []
  },
  {
   "cell_type": "code",
   "execution_count": null,
   "metadata": {},
   "outputs": [],
   "source": []
  },
  {
   "cell_type": "code",
   "execution_count": null,
   "metadata": {},
   "outputs": [],
   "source": []
  },
  {
   "cell_type": "markdown",
   "metadata": {},
   "source": [
    "# Parte correspondiente al curso, última update el 20/09/2019"
   ]
  },
  {
   "cell_type": "markdown",
   "metadata": {},
   "source": [
    "## Bloque inicial"
   ]
  },
  {
   "cell_type": "code",
   "execution_count": 3,
   "metadata": {},
   "outputs": [],
   "source": [
    "import numpy as np                  # Vectores\n",
    "import pandas as pd                 # DataFrames\n",
    "import matplotlib.pyplot as plt     # Gráficas\n",
    "import math                         # Operaciones\n",
    "from scipy import stats             # Paquetería estadística\n",
    "from scipy.stats import kstest      # Prueba de Kolmogorov-Smirnov\n",
    "from scipy.stats import beta        # Distribución Beta\n",
    "from scipy.stats import expon       # Distribución Exponencial\n",
    "from scipy.stats import norm        # Distribución Normal\n",
    "\n",
    "%matplotlib inline   "
   ]
  },
  {
   "cell_type": "markdown",
   "metadata": {},
   "source": [
    "- Consideraremos valores diarios, así que declaramos vectores de 365"
   ]
  },
  {
   "cell_type": "code",
   "execution_count": 22,
   "metadata": {},
   "outputs": [],
   "source": [
    "### LLenamos vector con valores tomados de la Normal Inversa (0, 1)\n",
    "mu = 0.005     ### mu de Black-Scholes\n",
    "sigma = 0.02   ### sigma de Black-Scholes\n",
    "n = 365        ### tamaño del vector\n",
    "S0 = 40        ### Precio inicial\n",
    "\n",
    "Nt = np.zeros(n)\n",
    "Wt = np.zeros(n)\n",
    "\n",
    "for i in range(0, len(Nt)-1):\n",
    "    Nt[i] = np.random.uniform(0,1)\n",
    "\n",
    "Wt = norm.ppf(Nt)"
   ]
  },
  {
   "cell_type": "markdown",
   "metadata": {},
   "source": [
    "2. Construimos vector de valores acumulados (trayectoria) de $W_{t}$\n"
   ]
  },
  {
   "cell_type": "code",
   "execution_count": 15,
   "metadata": {},
   "outputs": [],
   "source": [
    "trayWt = np.zeros(n)\n",
    "trayWt[0] = Wt[0]\n",
    "for i in range(0, len(trayWt)-1):\n",
    "    trayWt[i+1] = trayWt[i] + Wt[i+1] \n"
   ]
  },
  {
   "cell_type": "markdown",
   "metadata": {},
   "source": [
    "3. Construimos el vector de $\\mu + \\sigma W_{t}$"
   ]
  },
  {
   "cell_type": "code",
   "execution_count": 19,
   "metadata": {},
   "outputs": [],
   "source": [
    "muSigmaWt = np.zeros(n)\n",
    "for i in range(0, len(muSigmaWt)-1):\n",
    "    muSigmaWt[i] = mu + sigma*Wt[i]\n"
   ]
  },
  {
   "cell_type": "markdown",
   "metadata": {},
   "source": [
    "4. Construimos trayectorias de $\\mu + \\sigma W_{t}$"
   ]
  },
  {
   "cell_type": "code",
   "execution_count": 21,
   "metadata": {},
   "outputs": [],
   "source": [
    "trayMuSigmaWt = np.zeros(n)\n",
    "trayMuSigmaWt[0] = muSigmaWt[0]\n",
    "for i in range(0, len(trayMuSigmaWt)-1):\n",
    "    trayMuSigmaWt[i+1] = trayMuSigmaWt[i] + muSigmaWt[i+1]"
   ]
  },
  {
   "cell_type": "code",
   "execution_count": null,
   "metadata": {},
   "outputs": [],
   "source": []
  }
 ],
 "metadata": {
  "kernelspec": {
   "display_name": "Python 3",
   "language": "python",
   "name": "python3"
  },
  "language_info": {
   "codemirror_mode": {
    "name": "ipython",
    "version": 3
   },
   "file_extension": ".py",
   "mimetype": "text/x-python",
   "name": "python",
   "nbconvert_exporter": "python",
   "pygments_lexer": "ipython3",
   "version": "3.7.3"
  }
 },
 "nbformat": 4,
 "nbformat_minor": 2
}
