{
 "cells": [
  {
   "cell_type": "markdown",
   "metadata": {},
   "source": [
    "# Financial Risk Management\n",
    "\n",
    "### By Carlos Santillán\n",
    "\n",
    "#### Start date: September 20, 2019\n",
    "#### 2nd Date: April 15, 2020"
   ]
  },
  {
   "cell_type": "markdown",
   "metadata": {},
   "source": [
    "This notebook is written with the purpose of becoming a repository of useful algorithms used in Financial Risk Management. The language chosen for this notebook is Python, everything will be developed using this language.\n",
    "\n",
    "The ultimate purpose of this notebook is to become an Interactive Dashboard for Financial Risk Management."
   ]
  },
  {
   "cell_type": "markdown",
   "metadata": {},
   "source": [
    "## Table of Contents"
   ]
  },
  {
   "cell_type": "markdown",
   "metadata": {},
   "source": [
    "To be written"
   ]
  },
  {
   "cell_type": "markdown",
   "metadata": {},
   "source": [
    "## Import Block"
   ]
  },
  {
   "cell_type": "code",
   "execution_count": 3,
   "metadata": {},
   "outputs": [
    {
     "name": "stdout",
     "output_type": "stream",
     "text": [
      "Requirement already satisfied: pandas_datareader in c:\\programdata\\anaconda3\\lib\\site-packages (0.8.1)\n",
      "Requirement already satisfied: lxml in c:\\programdata\\anaconda3\\lib\\site-packages (from pandas_datareader) (4.3.4)\n",
      "Requirement already satisfied: pandas>=0.21 in c:\\programdata\\anaconda3\\lib\\site-packages (from pandas_datareader) (0.24.2)\n",
      "Requirement already satisfied: requests>=2.3.0 in c:\\programdata\\anaconda3\\lib\\site-packages (from pandas_datareader) (2.22.0)\n",
      "Requirement already satisfied: python-dateutil>=2.5.0 in c:\\programdata\\anaconda3\\lib\\site-packages (from pandas>=0.21->pandas_datareader) (2.8.0)\n",
      "Requirement already satisfied: numpy>=1.12.0 in c:\\programdata\\anaconda3\\lib\\site-packages (from pandas>=0.21->pandas_datareader) (1.16.4)\n",
      "Requirement already satisfied: pytz>=2011k in c:\\programdata\\anaconda3\\lib\\site-packages (from pandas>=0.21->pandas_datareader) (2019.1)\n",
      "Requirement already satisfied: idna<2.9,>=2.5 in c:\\programdata\\anaconda3\\lib\\site-packages (from requests>=2.3.0->pandas_datareader) (2.8)\n",
      "Requirement already satisfied: certifi>=2017.4.17 in c:\\programdata\\anaconda3\\lib\\site-packages (from requests>=2.3.0->pandas_datareader) (2019.6.16)\n",
      "Requirement already satisfied: urllib3!=1.25.0,!=1.25.1,<1.26,>=1.21.1 in c:\\programdata\\anaconda3\\lib\\site-packages (from requests>=2.3.0->pandas_datareader) (1.24.2)\n",
      "Requirement already satisfied: chardet<3.1.0,>=3.0.2 in c:\\programdata\\anaconda3\\lib\\site-packages (from requests>=2.3.0->pandas_datareader) (3.0.4)\n",
      "Requirement already satisfied: six>=1.5 in c:\\programdata\\anaconda3\\lib\\site-packages (from python-dateutil>=2.5.0->pandas>=0.21->pandas_datareader) (1.12.0)\n"
     ]
    }
   ],
   "source": [
    "import numpy as np                  # Vectores \n",
    "import pandas as pd                 # DataFrames \n",
    "import matplotlib.pyplot as plt     # Gráficas \n",
    "import math                         # Operaciones \n",
    "import seaborn as sns               # Gráficos y controles de Scrapping \n",
    "import random                       # Muestreos aleatorios \n",
    "import quandl                       # Datasets financieros \n",
    "import yahoo_finance                # Acceso a Yahoo Finanzas \n",
    "from scipy import stats             # Paquetería estadística \n",
    "from scipy.stats import kstest      # Prueba de Kolmogorov-Smirnov \n",
    "from scipy.stats import beta        # Distribución Beta \n",
    "from scipy.stats import expon       # Distribución Exponencial \n",
    "from scipy.stats import uniform     # Distribución uniforme \n",
    "from scipy.stats import norm        # Distribución normal \n",
    "from scipy.stats import binom       # Distribución Binomial \n",
    "\n",
    "### This part is a substitute of istalling directly from promt\n",
    "import pip \n",
    "from pip._internal import main \n",
    "main(['install', 'pandas_datareader']) \n",
    "#main(['install', 'fix_yahoo_finance']) \n",
    "from pandas_datareader import data as web \n",
    "#import fix_yahoo_finance \n",
    "\n",
    "%matplotlib inline "
   ]
  },
  {
   "cell_type": "markdown",
   "metadata": {},
   "source": [
    "## 1. VaR - One Asset"
   ]
  },
  {
   "cell_type": "markdown",
   "metadata": {},
   "source": [
    "### 1.1 Parametric VaR"
   ]
  },
  {
   "cell_type": "markdown",
   "metadata": {},
   "source": [
    "For this 1st part, I´m going to calculate the **parametric VaR** as well as the **Empirical VaR** of a dataset obtained from Yahoo.\n",
    " "
   ]
  },
  {
   "cell_type": "markdown",
   "metadata": {},
   "source": [
    "In this case, let us use **Swiss Re (SREN.SW)** stock price. \n",
    "\n",
    "We will also ask for the user to input the dates he wants to get data from:"
   ]
  },
  {
   "cell_type": "code",
   "execution_count": 4,
   "metadata": {},
   "outputs": [],
   "source": [
    "def get_quote_data():\n",
    "    '''\n",
    "    User will be prompted for quote, start and end date for the price series.\n",
    "    quote should be introduced as string\n",
    "    Dates should have format yyyy-mm-dd\n",
    "    Dates will be entered as string and then transformed into datetime type\n",
    "    Column 'Adj Close' will be renamed to 'adj_close'\n",
    "    Output: dataframe with quote's financial data in the selected date range\n",
    "    '''\n",
    "    quote = input(\"Please enter the quote of the company of your interest: \")\n",
    "    start_Date = input(\"Please enter start date for price series (format should be yyyy-mm-dd): \")\n",
    "    end_Date = input(\"Please enter end date for price series (format should be yyyy-mm-dd): \")\n",
    "    \n",
    "    start_Date_Datetime = pd.to_datetime(start_Date)     \n",
    "    end_Date_Datetime = pd.to_datetime(end_Date)\n",
    "\n",
    "    dataFrame = web.get_data_yahoo(quote, start_Date_Datetime, end_Date_Datetime)\n",
    "    \n",
    "    dataFrame.rename(columns = {'Adj Close': 'adj_close'}, inplace=True)\n",
    "    \n",
    "    print(\"You selected \" + quote + \" as the company you want to download data from\")\n",
    "    print(\"You selected \" + start_Date + \" as starting date\")\n",
    "    print(\"You selected \" + end_Date + \" as ending date\")\n",
    "    print(\"Here are the first 5 records of your data:\")\n",
    "    print(dataFrame.head())\n",
    "    \n",
    "    return dataFrame\n"
   ]
  },
  {
   "cell_type": "code",
   "execution_count": 5,
   "metadata": {},
   "outputs": [
    {
     "name": "stdout",
     "output_type": "stream",
     "text": [
      "Please enter the quote of the company of your interest: SREN.SW\n",
      "Please enter start date for price series (format should be yyyy-mm-dd): 2019-04-24\n",
      "Please enter end date for price series (format should be yyyy-mm-dd): 2020-04-24\n",
      "You selected SREN.SW as the company you want to download data from\n",
      "You selected 2019-04-24 as starting date\n",
      "You selected 2020-04-24 as ending date\n",
      "Here are the first 5 records of your data:\n",
      "                 High        Low       Open      Close     Volume  adj_close\n",
      "Date                                                                        \n",
      "2019-04-24  98.800003  97.760002  97.980003  97.820000  2454474.0  90.486610\n",
      "2019-04-25  98.480003  97.519997  97.720001  98.279999  1323717.0  90.912125\n",
      "2019-04-26  98.400002  97.800003  98.279999  98.139999  1728084.0  90.782616\n",
      "2019-04-29  98.440002  97.779999  98.019997  98.239998  1443031.0  90.875122\n",
      "2019-04-30  98.559998  97.879997  98.120003  98.059998  1361519.0  90.708611\n"
     ]
    }
   ],
   "source": [
    "df = get_quote_data()"
   ]
  },
  {
   "cell_type": "markdown",
   "metadata": {},
   "source": [
    "Now that we have our data, it would be useful to visualize 'Close' and 'Adj Close':"
   ]
  },
  {
   "cell_type": "code",
   "execution_count": 6,
   "metadata": {},
   "outputs": [],
   "source": [
    "def plot_close(dataFrame):\n",
    "    '''\n",
    "    For any given dataframe, plot columns Close and adj_close\n",
    "    Output: Plot of Close vs Adj Close\n",
    "    '''\n",
    "    plt.plot(dataFrame.index, df['Close'], '-r', label = 'Close')\n",
    "    plt.plot(dataFrame.index, df['adj_close'], '-b', label = 'Adj Close')\n",
    "    plt.legend(loc='upper left')\n",
    "    plt.title(\"Adjusted Close vs. Close\")\n",
    "\n",
    "    return \n"
   ]
  },
  {
   "cell_type": "code",
   "execution_count": 7,
   "metadata": {},
   "outputs": [
    {
     "name": "stderr",
     "output_type": "stream",
     "text": [
      "C:\\ProgramData\\Anaconda3\\lib\\site-packages\\pandas\\plotting\\_converter.py:129: FutureWarning: Using an implicitly registered datetime converter for a matplotlib plotting method. The converter was registered by pandas on import. Future versions of pandas will require you to explicitly register matplotlib converters.\n",
      "\n",
      "To register the converters:\n",
      "\t>>> from pandas.plotting import register_matplotlib_converters\n",
      "\t>>> register_matplotlib_converters()\n",
      "  warnings.warn(msg, FutureWarning)\n"
     ]
    },
    {
     "data": {
      "image/png": "[encoded data removed]",
      "text/plain": [
       "<Figure size 432x288 with 1 Axes>"
      ]
     },
     "metadata": {
      "needs_background": "light"
     },
     "output_type": "display_data"
    }
   ],
   "source": [
    "plot_close(df)"
   ]
  },
  {
   "cell_type": "markdown",
   "metadata": {},
   "source": [
    "For our calculations, we will be using the **Adj Close** column. Using the Ajusted value at Close is convenient for the following reasons:\n",
    "\n",
    "- Corporate matters (SPLIT)\n",
    "\n",
    "- Dividends\n",
    "\n",
    "- Decrease stock price in order to issu more stocks\n",
    "\n",
    "- Decrease volume of stocks, hence increasing stock price\n",
    "\n",
    "- It is calculated as the average of the last 3 hours"
   ]
  },
  {
   "cell_type": "markdown",
   "metadata": {},
   "source": [
    "Now it's time to calculate our returns. This can be done in 2 different ways:\n",
    "\n",
    "1. Simple returns\n",
    "2. Logarithmic returns\n",
    "\n",
    "What's the difference between them?\n",
    "\n",
    "For instance, the formula for **Simple returns is as follows**\n",
    "\n",
    "$$R_{t+1} = \\frac{Price_{t+1}}{Price_{t}} -1 $$\n",
    "\n",
    "and the formula for **Logarithmic returns** is as follows:\n",
    "\n",
    "$$R_{t+1}ln = ln(\\frac{Price_{t+1}}{Price_{t}}) $$\n",
    "\n",
    "\n",
    "So, as you can see, Simple Returns is actually just looking at the difference in percentage between the two values, current and past price, whereas Logarithmic Returns gets the natural logarithm of the quotient of both.\n",
    "\n",
    "For convenience we will calculate both, but for the rest of our calculations we will use Logarithmic Returns.\n",
    "\n",
    "Why? Because returns calculated that way allow us to use properly the **Black-Scholes Formula**"
   ]
  },
  {
   "cell_type": "markdown",
   "metadata": {},
   "source": [
    "Notice that in this format of dataframe, our 'Adj Close' column is always in the 6th position, hence we can make a reference to it using *.iloc[]* with the index 5 (since Python begins enumerating from 0)"
   ]
  },
  {
   "cell_type": "code",
   "execution_count": 8,
   "metadata": {},
   "outputs": [],
   "source": [
    "def calculate_returns(dataFrame):\n",
    "    '''\n",
    "    Input: dataframe with financial data\n",
    "    Column with Adj Close must be in the 6th position if it is to be referenced with .iloc\n",
    "    Calculate simple returns of Adj Close\n",
    "    Calculate logarithmic returns of Adj Close\n",
    "    Output: dataframe with 2 additional columns\n",
    "    '''\n",
    "    \n",
    "    ### Get adj_close as a Numpy array\n",
    "    adj_Close_np = np.asarray(dataFrame['adj_close'])\n",
    "    \n",
    "    ### Construct return arrays, with dimension of adf_close -1\n",
    "    simple_Returns = np.zeros(len(adj_Close_np) - 1)\n",
    "    log_Returns = np.zeros(len(adj_Close_np) - 1)\n",
    "    \n",
    "    ### Calculate simple and log returns\n",
    "    for i in range(len(adj_Close_np) - 1):\n",
    "        simple_Returns[i] = (adj_Close_np[i+1] / adj_Close_np[i]) - 1\n",
    "        log_Returns[i] = np.log(adj_Close_np[i+1] / adj_Close_np[i])\n",
    "    \n",
    "    ### Convert returns to Pandas Series\n",
    "    simple_Returns_pd = pd.Series(simple_Returns)\n",
    "    log_Returns_pd = pd.Series(log_Returns)\n",
    "    \n",
    "    ### For our columns to be included, we need both dataframes to have the same index\n",
    "    ### so we will turn 'Date' into a column and then we´ll return it as index\n",
    "    dataFrame.reset_index(inplace=True,drop=False)\n",
    "    \n",
    "    ### Duplicate Date column in order to have one as well as the index\n",
    "    dataFrame['date_col'] = dataFrame['Date']\n",
    "    \n",
    "    ### Include return´s series in dataframe\n",
    "    dataFrame['simple_returns'] = simple_Returns_pd\n",
    "    dataFrame['log_returns'] = log_Returns_pd\n",
    "    \n",
    "    ### Shift returns columns 1 space below\n",
    "    dataFrame['simple_returns'] = dataFrame['simple_returns'].shift(+1)\n",
    "    dataFrame['log_returns'] = dataFrame['log_returns'].shift(+1)\n",
    "    \n",
    "    ### Return Date column to index\n",
    "    dataFrame = dataFrame.set_index('Date')\n",
    "    \n",
    "    return dataFrame"
   ]
  },
  {
   "cell_type": "code",
   "execution_count": 9,
   "metadata": {},
   "outputs": [
    {
     "data": {
      "text/html": [
       "<div>\n",
       "<style scoped>\n",
       "    .dataframe tbody tr th:only-of-type {\n",
       "        vertical-align: middle;\n",
       "    }\n",
       "\n",
       "    .dataframe tbody tr th {\n",
       "        vertical-align: top;\n",
       "    }\n",
       "\n",
       "    .dataframe thead th {\n",
       "        text-align: right;\n",
       "    }\n",
       "</style>\n",
       "<table border=\"1\" class=\"dataframe\">\n",
       "  <thead>\n",
       "    <tr style=\"text-align: right;\">\n",
       "      <th></th>\n",
       "      <th>High</th>\n",
       "      <th>Low</th>\n",
       "      <th>Open</th>\n",
       "      <th>Close</th>\n",
       "      <th>Volume</th>\n",
       "      <th>adj_close</th>\n",
       "      <th>date_col</th>\n",
       "      <th>simple_returns</th>\n",
       "      <th>log_returns</th>\n",
       "    </tr>\n",
       "    <tr>\n",
       "      <th>Date</th>\n",
       "      <th></th>\n",
       "      <th></th>\n",
       "      <th></th>\n",
       "      <th></th>\n",
       "      <th></th>\n",
       "      <th></th>\n",
       "      <th></th>\n",
       "      <th></th>\n",
       "      <th></th>\n",
       "    </tr>\n",
       "  </thead>\n",
       "  <tbody>\n",
       "    <tr>\n",
       "      <th>2019-04-24</th>\n",
       "      <td>98.800003</td>\n",
       "      <td>97.760002</td>\n",
       "      <td>97.980003</td>\n",
       "      <td>97.820000</td>\n",
       "      <td>2454474.0</td>\n",
       "      <td>90.486610</td>\n",
       "      <td>2019-04-24</td>\n",
       "      <td>NaN</td>\n",
       "      <td>NaN</td>\n",
       "    </tr>\n",
       "    <tr>\n",
       "      <th>2019-04-25</th>\n",
       "      <td>98.480003</td>\n",
       "      <td>97.519997</td>\n",
       "      <td>97.720001</td>\n",
       "      <td>98.279999</td>\n",
       "      <td>1323717.0</td>\n",
       "      <td>90.912125</td>\n",
       "      <td>2019-04-25</td>\n",
       "      <td>0.004703</td>\n",
       "      <td>0.004691</td>\n",
       "    </tr>\n",
       "    <tr>\n",
       "      <th>2019-04-26</th>\n",
       "      <td>98.400002</td>\n",
       "      <td>97.800003</td>\n",
       "      <td>98.279999</td>\n",
       "      <td>98.139999</td>\n",
       "      <td>1728084.0</td>\n",
       "      <td>90.782616</td>\n",
       "      <td>2019-04-26</td>\n",
       "      <td>-0.001425</td>\n",
       "      <td>-0.001426</td>\n",
       "    </tr>\n",
       "    <tr>\n",
       "      <th>2019-04-29</th>\n",
       "      <td>98.440002</td>\n",
       "      <td>97.779999</td>\n",
       "      <td>98.019997</td>\n",
       "      <td>98.239998</td>\n",
       "      <td>1443031.0</td>\n",
       "      <td>90.875122</td>\n",
       "      <td>2019-04-29</td>\n",
       "      <td>0.001019</td>\n",
       "      <td>0.001018</td>\n",
       "    </tr>\n",
       "    <tr>\n",
       "      <th>2019-04-30</th>\n",
       "      <td>98.559998</td>\n",
       "      <td>97.879997</td>\n",
       "      <td>98.120003</td>\n",
       "      <td>98.059998</td>\n",
       "      <td>1361519.0</td>\n",
       "      <td>90.708611</td>\n",
       "      <td>2019-04-30</td>\n",
       "      <td>-0.001832</td>\n",
       "      <td>-0.001834</td>\n",
       "    </tr>\n",
       "  </tbody>\n",
       "</table>\n",
       "</div>"
      ],
      "text/plain": [
       "                 High        Low       Open      Close     Volume  adj_close  \\\n",
       "Date                                                                           \n",
       "2019-04-24  98.800003  97.760002  97.980003  97.820000  2454474.0  90.486610   \n",
       "2019-04-25  98.480003  97.519997  97.720001  98.279999  1323717.0  90.912125   \n",
       "2019-04-26  98.400002  97.800003  98.279999  98.139999  1728084.0  90.782616   \n",
       "2019-04-29  98.440002  97.779999  98.019997  98.239998  1443031.0  90.875122   \n",
       "2019-04-30  98.559998  97.879997  98.120003  98.059998  1361519.0  90.708611   \n",
       "\n",
       "             date_col  simple_returns  log_returns  \n",
       "Date                                                \n",
       "2019-04-24 2019-04-24             NaN          NaN  \n",
       "2019-04-25 2019-04-25        0.004703     0.004691  \n",
       "2019-04-26 2019-04-26       -0.001425    -0.001426  \n",
       "2019-04-29 2019-04-29        0.001019     0.001018  \n",
       "2019-04-30 2019-04-30       -0.001832    -0.001834  "
      ]
     },
     "execution_count": 9,
     "metadata": {},
     "output_type": "execute_result"
    }
   ],
   "source": [
    "df2 = calculate_returns(df)\n",
    "df2.head()"
   ]
  },
  {
   "cell_type": "markdown",
   "metadata": {},
   "source": [
    "Now it would be useful to visualize the distribution of our returns:"
   ]
  },
  {
   "cell_type": "code",
   "execution_count": 10,
   "metadata": {},
   "outputs": [],
   "source": [
    "def plot_returns_distribution(dataFrame):\n",
    "    '''\n",
    "    For a given Dataframe, plot the distribution of the log_returns\n",
    "    Output: Plot of frequencies \n",
    "    '''\n",
    "    returns = np.asarray(dataFrame['log_returns'])          ### turn column into numpy array\n",
    "    returns = returns[np.logical_not(np.isnan(returns))]    ### remove NaN values from array\n",
    "    \n",
    "    sns.distplot(returns)\n",
    "    plt.title(\"Distribution of Log Returns\")\n",
    "    \n",
    "    return "
   ]
  },
  {
   "cell_type": "code",
   "execution_count": 11,
   "metadata": {},
   "outputs": [
    {
     "data": {
      "image/png": "[encoded data removed]",
      "text/plain": [
       "<Figure size 432x288 with 1 Axes>"
      ]
     },
     "metadata": {
      "needs_background": "light"
     },
     "output_type": "display_data"
    }
   ],
   "source": [
    "plot_returns_distribution(df2)"
   ]
  },
  {
   "cell_type": "markdown",
   "metadata": {},
   "source": [
    "We can now proceed to calculate **Parametric VaR**.\n",
    "\n",
    "For this, it will be necessary to calculate the mean $\\mu$ and the standard deviation $\\sigma$ of our log returns, as well as to prompt user for the value of the position taken:\n"
   ]
  },
  {
   "cell_type": "code",
   "execution_count": 26,
   "metadata": {},
   "outputs": [],
   "source": [
    "def get_parametric_VaR(dataFrame):\n",
    "    '''\n",
    "    For a given dataframe, we will calculate the Parametric VaR\n",
    "    Calculates mean of log returns\n",
    "    Calculates standard deviation of log returns\n",
    "    Prompts user for position value\n",
    "    Calculates negative and positive VaR\n",
    "    Quantiles considered will be 95%, 99.5% and 99.9%\n",
    "    Output: table with mean, stdev, value position and VaR in negative and positive values\n",
    "    '''\n",
    "    \n",
    "    ### Prompt user for position value\n",
    "    position_Value = input(\"Enter value of position taken (no commas)\")\n",
    "    print(\"Position value is: \" + position_Value)\n",
    "    \n",
    "    ### Covnert position value to float\n",
    "    position_Value = float(position_Value)\n",
    "    \n",
    "    ### Calculate mean and stdev of log-returns\n",
    "    mean_Returns = dataFrame['log_returns'].mean()\n",
    "    stdev_Returns = dataFrame['log_returns'].std()\n",
    "    \n",
    "    ### Calculate inverse of normal distribution (quantile function)\n",
    "    z_95 = norm.ppf(0.95)\n",
    "    z_995 = norm.ppf(0.995)\n",
    "    z_999 = norm.ppf(0.999)\n",
    "    \n",
    "    ### Calculate Negative VaR\n",
    "    neg_VaR_95 = mean_Returns - (z_95 * stdev_Returns)\n",
    "    neg_VaR_995 = mean_Returns - (z_995 * stdev_Returns)\n",
    "    neg_VaR_999 = mean_Returns - (z_999 * stdev_Returns)\n",
    "    \n",
    "    ### Calculate Positive VaR\n",
    "    pos_VaR_95 = mean_Returns + (z_95 * stdev_Returns)\n",
    "    pos_VaR_995 = mean_Returns + (z_995 * stdev_Returns)\n",
    "    pos_VaR_999 = mean_Returns + (z_999 * stdev_Returns)\n",
    "    \n",
    "    ### Calculate VaR in terms of Position Value\n",
    "    neg_Value_VaR_95 = neg_VaR_95 * position_Value\n",
    "    neg_Value_VaR_995 = neg_VaR_995 * position_Value\n",
    "    neg_Value_VaR_999 = neg_VaR_999 * position_Value\n",
    "    pos_Value_VaR_95 = pos_VaR_95 * position_Value\n",
    "    pos_Value_VaR_995 = pos_VaR_995 * position_Value\n",
    "    pos_Value_VaR_999 = pos_VaR_999 * position_Value\n",
    "    \n",
    "    ### Convert VaR into percentage\n",
    "    neg_VaR_95 = neg_VaR_95 * 100\n",
    "    neg_VaR_995 = neg_VaR_995 * 100\n",
    "    neg_VaR_999 = neg_VaR_999 * 100\n",
    "    pos_VaR_95 = pos_VaR_95 * 100\n",
    "    pos_VaR_995 = pos_VaR_995 * 100\n",
    "    pos_VaR_999 = pos_VaR_999 * 100\n",
    "    \n",
    "    ### Print mean and stdev\n",
    "    print(\"The mean of our returns is: \" + str(mean_Returns) + \"\\n\")\n",
    "    print(\"The stdev of our returns is: \" + str(stdev_Returns) + \"\\n\")\n",
    "    \n",
    "    ### Display VaR in 2 different dataframes, one for negative and the other for positive\n",
    "    column_Names = ['95%', '99.5%', '99.9%']                     ### declare names for the columns \n",
    "    neg_index_Names = ['Zq', '-VaR(1-q)', '-VaR in Value']       ### row names for negative VaR\n",
    "    pos_index_Names = ['Zq', '+VaR(1-q)', '+VaR in Value']       ### row names for positive VaR\n",
    "    \n",
    "    dfObj_Negative = pd.DataFrame(columns = column_Names, index = neg_index_Names)     ### empty dataframe\n",
    "    dfObj_Positive = pd.DataFrame(columns = column_Names, index = pos_index_Names)     ### empty dataframe\n",
    "    \n",
    "    zq_list = [z_95, z_995, z_999]\n",
    "    neg_VaR_list = [neg_VaR_95, neg_VaR_995, neg_VaR_999]\n",
    "    neg_Value_list = [neg_Value_VaR_95, neg_Value_VaR_995, neg_Value_VaR_999]\n",
    "    pos_VaR_list = [pos_VaR_95, pos_VaR_995, pos_VaR_999]\n",
    "    pos_Value_list = [pos_Value_VaR_95, pos_Value_VaR_995, pos_Value_VaR_999]\n",
    "    \n",
    "    ### Append rows to empty dataframes\n",
    "    dfObj_Negative.loc['Zq'] = zq_list\n",
    "    dfObj_Negative.loc['-VaR(1-q)'] = neg_VaR_list\n",
    "    dfObj_Negative.loc['-VaR in Value'] = neg_Value_list\n",
    "    dfObj_Positive.loc['Zq'] = zq_list\n",
    "    dfObj_Positive.loc['+VaR(1-q)'] = pos_VaR_list\n",
    "    dfObj_Positive.loc['+VaR in Value'] = pos_Value_list\n",
    "    \n",
    "    print(\"PARAMETRIC VaR \\n\")\n",
    "    print(dfObj_Negative)\n",
    "    print(dfObj_Positive)\n",
    "    \n",
    "    return neg_VaR_list, pos_VaR_list\n",
    "    "
   ]
  },
  {
   "cell_type": "code",
   "execution_count": 27,
   "metadata": {},
   "outputs": [
    {
     "name": "stdout",
     "output_type": "stream",
     "text": [
      "Enter value of position taken (no commas)1000000\n",
      "Position value is: 1000000\n",
      "The mean of our returns is: -0.0011734823243725885\n",
      "\n",
      "The stdev of our returns is: 0.023212408783896233\n",
      "\n",
      "PARAMETRIC VaR \n",
      "\n",
      "                   95%    99.5%    99.9%\n",
      "Zq             1.64485  2.57583  3.09023\n",
      "-VaR(1-q)     -3.93545 -6.09647 -7.29052\n",
      "-VaR in Value -39354.5 -60964.7 -72905.2\n",
      "                   95%    99.5%    99.9%\n",
      "Zq             1.64485  2.57583  3.09023\n",
      "+VaR(1-q)      3.70075  5.86177  7.05583\n",
      "+VaR in Value  37007.5  58617.7  70558.3\n"
     ]
    },
    {
     "data": {
      "text/plain": [
       "([-3.935449710284452, -6.09646850758884, -7.290521785234224],\n",
       " [3.7007532454099343, 5.861772042714322, 7.055825320359707])"
      ]
     },
     "execution_count": 27,
     "metadata": {},
     "output_type": "execute_result"
    }
   ],
   "source": [
    "get_parametric_VaR(df2)"
   ]
  },
  {
   "cell_type": "markdown",
   "metadata": {},
   "source": [
    "### 1.2 Empirical VaR"
   ]
  },
  {
   "cell_type": "markdown",
   "metadata": {},
   "source": [
    "For contrasting purposes, it would be nice to also get our **Empirical VaR**:"
   ]
  },
  {
   "cell_type": "code",
   "execution_count": 28,
   "metadata": {},
   "outputs": [],
   "source": [
    "def get_empirical_VaR(dataFrame):\n",
    "    '''\n",
    "    For a given dataframe, calculate Empirical VaR\n",
    "    Calculate VaR for 95%, 99.5% and 99.9% confidence levels\n",
    "    User will be prompted for position value\n",
    "    '''\n",
    "    ### Prompt user for position value\n",
    "    position_Value = input(\"Enter value of position taken (no commas)\")\n",
    "    print(\"Position value is: \" + position_Value)\n",
    "    \n",
    "    ### Covnert position value to float\n",
    "    position_Value = float(position_Value)\n",
    "    \n",
    "    ### Get quantile of log returns\n",
    "    neg_Empirical_VaR_95 = (dataFrame['log_returns'].quantile(1 - 0.95)) * 100\n",
    "    neg_Empirical_VaR_995 = (dataFrame['log_returns'].quantile(1 - 0.995)) * 100\n",
    "    neg_Empirical_VaR_999 = (dataFrame['log_returns'].quantile(1 - 0.999)) * 100\n",
    "    pos_Empirical_VaR_95 = (dataFrame['log_returns'].quantile(0.95)) * 100\n",
    "    pos_Empirical_VaR_995 = (dataFrame['log_returns'].quantile(0.995)) * 100\n",
    "    pos_Empirical_VaR_999 = (dataFrame['log_returns'].quantile(0.999)) * 100\n",
    "    \n",
    "    ### Create lists of resulting VaR\n",
    "    neg_Empirical_VaR_list = [neg_Empirical_VaR_95, neg_Empirical_VaR_995, neg_Empirical_VaR_999]\n",
    "    pos_Empirical_VaR_list = [pos_Empirical_VaR_95, pos_Empirical_VaR_995, pos_Empirical_VaR_999]\n",
    "    \n",
    "    ### Generate VaR in terms of value\n",
    "    neg_Value_95 = (neg_Empirical_VaR_95 * position_Value) / 100\n",
    "    neg_Value_995 = (neg_Empirical_VaR_995 * position_Value) / 100\n",
    "    neg_Value_999 = (neg_Empirical_VaR_999 * position_Value) / 100\n",
    "    pos_Value_95 = (pos_Empirical_VaR_95 * position_Value) / 100\n",
    "    pos_Value_995 = (pos_Empirical_VaR_995 * position_Value) / 100\n",
    "    pos_Value_999 = (pos_Empirical_VaR_999 * position_Value) / 100\n",
    "    \n",
    "    ### Create list of resulting VaR in values\n",
    "    neg_Value_list = [neg_Value_95, neg_Value_995, neg_Value_999]\n",
    "    pos_Value_list = [pos_Value_95, pos_Value_995, pos_Value_999]\n",
    "    \n",
    "    ### Display VaR in 2 different dataframes, one for negative and the other for positive\n",
    "    column_Names = ['95%', '99.5%', '99.9%']               ### declare names for the columns \n",
    "    neg_index_Names = ['-VaR(1-q)', '-VaR in Value']       ### row names for negative VaR\n",
    "    pos_index_Names = ['+VaR(1-q)', '+VaR in Value']       ### row names for positive VaR\n",
    "    \n",
    "    dfObj_Negative = pd.DataFrame(columns = column_Names, index = neg_index_Names)     ### empty dataframe\n",
    "    dfObj_Positive = pd.DataFrame(columns = column_Names, index = pos_index_Names)     ### empty dataframe\n",
    "    \n",
    "    ### Fill dataframes\n",
    "    dfObj_Negative.loc['-VaR(1-q)'] = neg_Empirical_VaR_list\n",
    "    dfObj_Negative.loc['-VaR in Value'] = neg_Value_list\n",
    "    dfObj_Positive.loc['+VaR(1-q)'] = pos_Empirical_VaR_list\n",
    "    dfObj_Positive.loc['+VaR in Value'] = pos_Value_list\n",
    "    \n",
    "    print(\"EMPIRICAL VaR \\n\")\n",
    "    print(dfObj_Negative)\n",
    "    print(dfObj_Positive)\n",
    "    \n",
    "    return neg_Empirical_VaR_list, pos_Empirical_VaR_list\n",
    "    \n",
    "    "
   ]
  },
  {
   "cell_type": "code",
   "execution_count": 29,
   "metadata": {},
   "outputs": [
    {
     "name": "stdout",
     "output_type": "stream",
     "text": [
      "Enter value of position taken (no commas)1000000\n",
      "Position value is: 1000000\n",
      "EMPIRICAL VaR \n",
      "\n",
      "                   95%    99.5%    99.9%\n",
      "-VaR(1-q)     -3.08496 -10.9369 -15.6638\n",
      "-VaR in Value -30849.6  -109369  -156638\n",
      "                   95%    99.5%    99.9%\n",
      "+VaR(1-q)      1.93148  6.15887  13.1787\n",
      "+VaR in Value  19314.8  61588.7   131787\n"
     ]
    },
    {
     "data": {
      "text/plain": [
       "([-3.0849599314346525, -10.936924252100598, -15.663838634703856],\n",
       " [1.9314808702003996, 6.158865650670622, 13.178676687824845])"
      ]
     },
     "execution_count": 29,
     "metadata": {},
     "output_type": "execute_result"
    }
   ],
   "source": [
    "get_empirical_VaR(df2)"
   ]
  },
  {
   "cell_type": "markdown",
   "metadata": {},
   "source": [
    "So what have we actually gotten?\n",
    "\n",
    "Well, let's talk abut how shouldour calculations be interpreted. For instance, letus look at our **Parametric VaR** results, particularly at the value for 95% confidence in the row '-VaR(1-q)'.\n",
    "\n",
    "We can observe the value $-3.88266$, let us also remember that we´re looking at daily data. So, we should interpret this as:\n",
    "\n",
    "- With a confidence of 95% (i.e. with a probability of 5%) the worst scenario we can observe in a day (auming no intra-day trading) is that our stock looses $3.88266%$, \n",
    "\n",
    "- or in terms of the value of our position (in this case, $1,000,000$ CHF) we can loose up to $38,826$ CHF"
   ]
  },
  {
   "cell_type": "markdown",
   "metadata": {},
   "source": [
    "### 1.3 Historical Simulation"
   ]
  },
  {
   "cell_type": "markdown",
   "metadata": {},
   "source": [
    "We already have a dataframe with our log returns, let us take a brief look at it:"
   ]
  },
  {
   "cell_type": "code",
   "execution_count": 16,
   "metadata": {},
   "outputs": [
    {
     "data": {
      "text/html": [
       "<div>\n",
       "<style scoped>\n",
       "    .dataframe tbody tr th:only-of-type {\n",
       "        vertical-align: middle;\n",
       "    }\n",
       "\n",
       "    .dataframe tbody tr th {\n",
       "        vertical-align: top;\n",
       "    }\n",
       "\n",
       "    .dataframe thead th {\n",
       "        text-align: right;\n",
       "    }\n",
       "</style>\n",
       "<table border=\"1\" class=\"dataframe\">\n",
       "  <thead>\n",
       "    <tr style=\"text-align: right;\">\n",
       "      <th></th>\n",
       "      <th>High</th>\n",
       "      <th>Low</th>\n",
       "      <th>Open</th>\n",
       "      <th>Close</th>\n",
       "      <th>Volume</th>\n",
       "      <th>adj_close</th>\n",
       "      <th>date_col</th>\n",
       "      <th>simple_returns</th>\n",
       "      <th>log_returns</th>\n",
       "    </tr>\n",
       "    <tr>\n",
       "      <th>Date</th>\n",
       "      <th></th>\n",
       "      <th></th>\n",
       "      <th></th>\n",
       "      <th></th>\n",
       "      <th></th>\n",
       "      <th></th>\n",
       "      <th></th>\n",
       "      <th></th>\n",
       "      <th></th>\n",
       "    </tr>\n",
       "  </thead>\n",
       "  <tbody>\n",
       "    <tr>\n",
       "      <th>2019-04-24</th>\n",
       "      <td>98.800003</td>\n",
       "      <td>97.760002</td>\n",
       "      <td>97.980003</td>\n",
       "      <td>97.820000</td>\n",
       "      <td>2454474.0</td>\n",
       "      <td>90.486610</td>\n",
       "      <td>2019-04-24</td>\n",
       "      <td>NaN</td>\n",
       "      <td>NaN</td>\n",
       "    </tr>\n",
       "    <tr>\n",
       "      <th>2019-04-25</th>\n",
       "      <td>98.480003</td>\n",
       "      <td>97.519997</td>\n",
       "      <td>97.720001</td>\n",
       "      <td>98.279999</td>\n",
       "      <td>1323717.0</td>\n",
       "      <td>90.912125</td>\n",
       "      <td>2019-04-25</td>\n",
       "      <td>0.004703</td>\n",
       "      <td>0.004691</td>\n",
       "    </tr>\n",
       "    <tr>\n",
       "      <th>2019-04-26</th>\n",
       "      <td>98.400002</td>\n",
       "      <td>97.800003</td>\n",
       "      <td>98.279999</td>\n",
       "      <td>98.139999</td>\n",
       "      <td>1728084.0</td>\n",
       "      <td>90.782616</td>\n",
       "      <td>2019-04-26</td>\n",
       "      <td>-0.001425</td>\n",
       "      <td>-0.001426</td>\n",
       "    </tr>\n",
       "    <tr>\n",
       "      <th>2019-04-29</th>\n",
       "      <td>98.440002</td>\n",
       "      <td>97.779999</td>\n",
       "      <td>98.019997</td>\n",
       "      <td>98.239998</td>\n",
       "      <td>1443031.0</td>\n",
       "      <td>90.875122</td>\n",
       "      <td>2019-04-29</td>\n",
       "      <td>0.001019</td>\n",
       "      <td>0.001018</td>\n",
       "    </tr>\n",
       "    <tr>\n",
       "      <th>2019-04-30</th>\n",
       "      <td>98.559998</td>\n",
       "      <td>97.879997</td>\n",
       "      <td>98.120003</td>\n",
       "      <td>98.059998</td>\n",
       "      <td>1361519.0</td>\n",
       "      <td>90.708611</td>\n",
       "      <td>2019-04-30</td>\n",
       "      <td>-0.001832</td>\n",
       "      <td>-0.001834</td>\n",
       "    </tr>\n",
       "  </tbody>\n",
       "</table>\n",
       "</div>"
      ],
      "text/plain": [
       "                 High        Low       Open      Close     Volume  adj_close  \\\n",
       "Date                                                                           \n",
       "2019-04-24  98.800003  97.760002  97.980003  97.820000  2454474.0  90.486610   \n",
       "2019-04-25  98.480003  97.519997  97.720001  98.279999  1323717.0  90.912125   \n",
       "2019-04-26  98.400002  97.800003  98.279999  98.139999  1728084.0  90.782616   \n",
       "2019-04-29  98.440002  97.779999  98.019997  98.239998  1443031.0  90.875122   \n",
       "2019-04-30  98.559998  97.879997  98.120003  98.059998  1361519.0  90.708611   \n",
       "\n",
       "             date_col  simple_returns  log_returns  \n",
       "Date                                                \n",
       "2019-04-24 2019-04-24             NaN          NaN  \n",
       "2019-04-25 2019-04-25        0.004703     0.004691  \n",
       "2019-04-26 2019-04-26       -0.001425    -0.001426  \n",
       "2019-04-29 2019-04-29        0.001019     0.001018  \n",
       "2019-04-30 2019-04-30       -0.001832    -0.001834  "
      ]
     },
     "execution_count": 16,
     "metadata": {},
     "output_type": "execute_result"
    }
   ],
   "source": [
    "df2.head()"
   ]
  },
  {
   "cell_type": "markdown",
   "metadata": {},
   "source": [
    "The idea behind **Historical Simulation** is to take a base scenario (our las observed price is commonly used) and apply the corresponding log return rate to it, so our simulated prices follow the formula:\n",
    "\n",
    "$$SimPrice_{t} = base (1 + log return_{t})$$\n",
    "\n",
    "And for calculating the **Historical Simulation VaR**, we will need **simulated returns** calculated as follows:\n",
    "\n",
    "$$SimReturn_{t} = ln(\\frac{SimPrice_{t}}{base})$$\n",
    "\n",
    "In the end, our VaR will be given by the desired percentile of out simulated returns vector."
   ]
  },
  {
   "cell_type": "code",
   "execution_count": 51,
   "metadata": {},
   "outputs": [],
   "source": [
    "def get_historical_VaR(dataFrame):\n",
    "    '''\n",
    "    For a given dataframe, calculate the historical simulated VaR\n",
    "    Get base scenario as our last price observed in the series\n",
    "    Simulate prices\n",
    "    Simulate returns\n",
    "    Calculate VaR for 95%, 99.5% and 99.9%\n",
    "    Output: dataframe with VaR results\n",
    "    '''\n",
    "    ### Prompt user for position value\n",
    "    position_Value = input(\"Enter value of position taken (no commas)\")\n",
    "    print(\"Position value is: \" + position_Value)\n",
    "    \n",
    "    ### Covnert position value to float\n",
    "    position_Value = float(position_Value)\n",
    "    \n",
    "    ### Get base scenario as our last observed value in adj_close\n",
    "    base_Scenario = dataFrame['adj_close'].iloc[-1]\n",
    "    \n",
    "    ### Create arrays for simulated prices and simulated returns\n",
    "    sim_Prices = np.zeros(len(dataFrame.index) - 1)\n",
    "    sim_Returns = np.zeros(len(dataFrame.index) - 1)\n",
    "    \n",
    "    ### Transform log_returns column into Numpy array\n",
    "    log_Returns_np = np.asarray(dataFrame['log_returns'])\n",
    "    \n",
    "    ### Remove NaN value from log_returns array\n",
    "    log_Returns_np = log_Returns_np[np.logical_not(np.isnan(log_Returns_np))]\n",
    "    \n",
    "    ### Fill arrays of simulated prices and returns\n",
    "    for i in range(len(log_Returns_np)):\n",
    "        sim_Prices[i] = base_Scenario * (1 + log_Returns_np[i])\n",
    "        sim_Returns[i] = np.log(sim_Prices[i] / base_Scenario)\n",
    "    \n",
    "    ### Calculate VaR\n",
    "    hist_VaR_95 = np.quantile(sim_Returns, 1 - 0.95)\n",
    "    hist_VaR_995 = np.quantile(sim_Returns, 1 - 0.995)\n",
    "    hist_VaR_999 = np.quantile(sim_Returns, 1 - 0.999)\n",
    "    \n",
    "    ### Calculate VaR in terms of value position\n",
    "    hist_VaR_Value_95 = hist_VaR_95 * position_Value\n",
    "    hist_VaR_Value_995 = hist_VaR_995 * position_Value\n",
    "    hist_VaR_Value_999 = hist_VaR_999 * position_Value\n",
    "    \n",
    "    ### VaR in percentage (for print purposes)\n",
    "    hist_VaR_95_pct = hist_VaR_95 * 100\n",
    "    hist_VaR_995_pct = hist_VaR_995 * 100\n",
    "    hist_VaR_999_pct = hist_VaR_999 * 100\n",
    "    \n",
    "    ### Create list of resulting VaR (this is our output)\n",
    "    hist_VaR_list = [hist_VaR_95, hist_VaR_995, hist_VaR_999]\n",
    "    \n",
    "    ### Create list of VaR in percentage (for print purposes)\n",
    "    hist_VaR_pct_list = [hist_VaR_95_pct, hist_VaR_995_pct, hist_VaR_999_pct]\n",
    "    \n",
    "    ### Create list of VaR in terms of value\n",
    "    hist_VaR_Value_list = [hist_VaR_Value_95, hist_VaR_Value_995, hist_VaR_Value_999]\n",
    "    \n",
    "    ### Display VaR in 2 different dataframes, one for negative and the other for positive\n",
    "    column_Names = ['95%', '99.5%', '99.9%']               ### declare names for the columns \n",
    "    neg_index_Names = ['-VaR(1-q)', '-VaR in Value']       ### row names for negative VaR\n",
    "    \n",
    "    dfObj_Negative = pd.DataFrame(columns = column_Names, index = neg_index_Names)     ### empty dataframe\n",
    "    \n",
    "    ### Fill dataframes\n",
    "    dfObj_Negative.loc['-VaR(1-q)'] = hist_VaR_pct_list\n",
    "    dfObj_Negative.loc['-VaR in Value'] = hist_VaR_Value_list\n",
    "    \n",
    "    print(\"HISTORICAL SIMULATION VaR \\n\")\n",
    "    print(dfObj_Negative)\n",
    "    \n",
    "    ### Plot distribution of Simulated Returns\n",
    "    sns.distplot(sim_Returns)\n",
    "    plt.title(\"Historical Simulated Returns Distribution\")\n",
    "    \n",
    "    \n",
    "    #base_Vector = np.repeat(base_Scenario, len(sim_Prices))\n",
    "    #plt.plot(sim_Prices)\n",
    "    #plt.plot(base_Vector)\n",
    "    \n",
    "    return hist_VaR_list"
   ]
  },
  {
   "cell_type": "code",
   "execution_count": 52,
   "metadata": {},
   "outputs": [
    {
     "name": "stdout",
     "output_type": "stream",
     "text": [
      "Enter value of position taken (no commas)1000000\n",
      "Position value is: 1000000\n",
      "HISTORICAL SIMULATION VaR \n",
      "\n",
      "                   95%   99.5%    99.9%\n",
      "-VaR(1-q)     -3.13355 -11.594 -17.0717\n",
      "-VaR in Value -31335.5 -115940  -170717\n"
     ]
    },
    {
     "data": {
      "text/plain": [
       "[-0.03133548758846658, -0.11593953385281977, -0.1707168374834182]"
      ]
     },
     "execution_count": 52,
     "metadata": {},
     "output_type": "execute_result"
    },
    {
     "data": {
      "image/png": "[encoded data removed]",
      "text/plain": [
       "<Figure size 432x288 with 1 Axes>"
      ]
     },
     "metadata": {
      "needs_background": "light"
     },
     "output_type": "display_data"
    }
   ],
   "source": [
    "get_historical_VaR(df2)"
   ]
  },
  {
   "cell_type": "markdown",
   "metadata": {},
   "source": [
    "So, for this example we can observe that at 95% of confidence, the highest VaR is the paremetric one, with the historical being second and empirical 3rd.\n",
    "\n",
    "We can also observe that this ranking actually reverses when looking at the 99.9% confidence values.\n",
    "\n",
    "Why does this happen?\n",
    "\n",
    "When is it appropiate to use each method?"
   ]
  },
  {
   "cell_type": "markdown",
   "metadata": {},
   "source": [
    "### 1.4 Monte Carlo Simulation"
   ]
  },
  {
   "cell_type": "markdown",
   "metadata": {},
   "source": [
    "Monte-Carlo simulations of returns consists on:\n",
    "\n",
    "1. taking a base scenario (which can be the last observed value of the series i.e. the most actual) \n",
    "\n",
    "\n",
    "2. Calculating $\\mu$ and $\\sigma$ of out log returns\n",
    "\n",
    "\n",
    "3. Defining a factor (which can be deafaulted to 1)\n",
    "\n",
    "\n",
    "4. Defining the numer of periods we want to simulate\n",
    "\n",
    "\n",
    "5. Simulate scenarios\n",
    "\n",
    "\n",
    "6. Calculating our returns as $ln(\\frac{p_{tn}}{p_{t0}})$\n",
    "\n",
    "\n",
    "7. Finally, VaR can be calculated as the desired percentile of our returns\n",
    "\n",
    "\n",
    "Our simulations should follow this formula:\n",
    "\n",
    "$$t_{n} = t_{n-1} e^{Z}$$ where\n",
    "\n",
    "$$ Z = (\\mu - \\frac{1}{2} \\sigma^{2}) f + \\sigma \\Phi^{-1}(U)$$\n",
    "\n",
    "with $f$ being our factor and $U$ being a random number $U(0, 1)$.\n",
    "\n"
   ]
  },
  {
   "cell_type": "code",
   "execution_count": 151,
   "metadata": {},
   "outputs": [],
   "source": [
    "def ov_get_monte_carlo_VaR(dataFrame):\n",
    "    '''\n",
    "    INPUT: dataframe with financial data\n",
    "    \n",
    "    DESC.: Calculate Monte-Carlo VaR for levels 95%, 99.5%, 99.9%\n",
    "    \n",
    "    Get base scenario as las observed value in adj_close\n",
    "    Calculate mean and stdev of log_returns\n",
    "    Prompt user for value position\n",
    "    Prompt user for factor\n",
    "    Prompt user for number of scenarios\n",
    "    Simulate scenarios\n",
    "    Calculate returns\n",
    "    Calculate VaR\n",
    "    \n",
    "    OUTPUT: array with Monte-Carlo VaR\n",
    "    OUTPUT: array with returns via Monte Carlo\n",
    "    OUTPUT: matrix A with simulated scenarios\n",
    "    '''\n",
    "    ### Get base scenario\n",
    "    base_Scenario = df2['adj_close'].iloc[-1]\n",
    "    \n",
    "    ### Calculate mean and stdev\n",
    "    mean = df2['log_returns'].mean()\n",
    "    stdev = df2['log_returns'].std()\n",
    "    \n",
    "    ### Prompt user for data\n",
    "    value_Position = input(\"Enter position of value taken: \")\n",
    "    factor = input(\"Enter desired factor: \")\n",
    "    m = input(\"Enter number of wanted scenarios (tn): \")\n",
    "    n = input(\"Enter number of simulations: \")\n",
    "    \n",
    "    ### Confirm data chosen to user\n",
    "    print(\"The value of the position is: \" + value_Position)\n",
    "    print(\"The chosen factor is: \" + factor)\n",
    "    print(\"The number of simulated scenarios is: \" + m)\n",
    "    print(\"The number of simulations is: \" + n + \"\\n\")\n",
    "    \n",
    "    ### Turn strings inputed into floats for calculation purposes\n",
    "    value_Position = float(value_Position)\n",
    "    factor = float(factor)\n",
    "    m = int(m)\n",
    "    n = int(n)\n",
    "    \n",
    "    ### Declare shape of simulations matrix\n",
    "    shape_A = (m+1, n)     ### m+1 since we´re including the base vector\n",
    "    \n",
    "    ### Declare shape of Z matrix\n",
    "    shape_Z = (m, n)      ### since we´re only using Z for the simulations and not the base vector\n",
    "    \n",
    "    ### Declare matrix for scenarios and simulations\n",
    "    A = np.zeros(shape_A)\n",
    "    \n",
    "    ### Declare matrix for Z values\n",
    "    Z = np.zeros(shape_Z)\n",
    "    \n",
    "    ### Declare array with replicated base scenario value\n",
    "    base_Vector = np.repeat(base_Scenario, n)\n",
    "    \n",
    "    ### Assign base vector to first row of A\n",
    "    A[0] = base_Vector\n",
    "    \n",
    "    ### Calculate Z matrix according to formula and simulated scenarios in matrix A\n",
    "    for i in range(m):\n",
    "        for j in range(n):\n",
    "            Z[i][j] = ((mean - 0.5*(stdev**2)) * factor) + (stdev * norm.ppf(np.random.uniform(0, 1)))\n",
    "            A[i+1][j] = A[i][j] * np.exp(Z[i][j])\n",
    "    \n",
    "    ### As confirmation, print number of rows and cols from matrix A once simulation is done:\n",
    "    print(\"Simulation done\" + \"\\n\")\n",
    "    print(\"Number of scenarios simulated: \", len(A)-1)\n",
    "    print(\"Number of simulations made: \", len(A[0]))\n",
    "    \n",
    "    ### Calculate returns based on formula\n",
    "    returns = np.zeros(n)\n",
    "    returns = np.log(A[-1] / A[0])     ### output\n",
    "    \n",
    "    ### Calculate VaR\n",
    "    mc_VaR_95 = np.quantile(returns, 1 - 0.95)\n",
    "    mc_VaR_995 = np.quantile(returns, 1 - 0.995)\n",
    "    mc_VaR_999 = np.quantile(returns, 1 - 0.999)\n",
    "    \n",
    "    ### Calculate VaR in terms of value position\n",
    "    mc_VaR_Value_95 = mc_VaR_95 * value_Position\n",
    "    mc_VaR_Value_995 = mc_VaR_995 * value_Position\n",
    "    mc_VaR_Value_999 = mc_VaR_999 * value_Position\n",
    "    \n",
    "    ### VaR in percentage (for print purposes)\n",
    "    mc_VaR_95_pct = mc_VaR_95 * 100\n",
    "    mc_VaR_995_pct = mc_VaR_995 * 100\n",
    "    mc_VaR_999_pct = mc_VaR_999 * 100\n",
    "    \n",
    "    ### Create list of resulting VaR (this is our output)\n",
    "    mc_VaR_list = [mc_VaR_95, mc_VaR_995, mc_VaR_999]\n",
    "    \n",
    "    ### Create list of VaR in percentage (for print purposes)\n",
    "    mc_VaR_pct_list = [mc_VaR_95_pct, mc_VaR_995_pct, mc_VaR_999_pct]\n",
    "    \n",
    "    ### Create list of VaR in terms of value\n",
    "    mc_VaR_Value_list = [mc_VaR_Value_95, mc_VaR_Value_995, mc_VaR_Value_999]\n",
    "    \n",
    "    ### Display VaR in dataframe\n",
    "    column_Names = ['95%', '99.5%', '99.9%']               ### declare names for the columns \n",
    "    neg_index_Names = ['-VaR(1-q)', '-VaR in Value']       ### row names for negative VaR\n",
    "    \n",
    "    dfObj_Negative = pd.DataFrame(columns = column_Names, index = neg_index_Names)     ### empty dataframe\n",
    "    \n",
    "    ### Fill dataframes\n",
    "    dfObj_Negative.loc['-VaR(1-q)'] = mc_VaR_pct_list\n",
    "    dfObj_Negative.loc['-VaR in Value'] = mc_VaR_Value_list\n",
    "    \n",
    "    print(\"Monte Carlo Simulation VaR \\n\")\n",
    "    print(dfObj_Negative)\n",
    "    \n",
    "    return mc_VaR_list, returns, A\n",
    "    "
   ]
  },
  {
   "cell_type": "markdown",
   "metadata": {},
   "source": [
    "We assign the outputs of our one asset Monte Carlo function to the variables:\n",
    "\n",
    "- mc_VaR\n",
    "\n",
    "- mc_returns\n",
    "\n",
    "- mc_A"
   ]
  },
  {
   "cell_type": "code",
   "execution_count": 152,
   "metadata": {},
   "outputs": [
    {
     "name": "stdout",
     "output_type": "stream",
     "text": [
      "Enter position of value taken: 1000000\n",
      "Enter desired factor: 1\n",
      "Enter number of wanted scenarios (tn): 5\n",
      "Enter number of simulations: 1000\n",
      "The value of the position is: 1000000\n",
      "The chosen factor is: 1\n",
      "The number of simulated scenarios is: 5\n",
      "The number of simulations is: 1000\n",
      "\n",
      "Simulation done\n",
      "\n",
      "Number of scenarios simulated:  5\n",
      "Number of simulations made:  1000\n",
      "Monte Carlo Simulation VaR \n",
      "\n",
      "                   95%    99.5%    99.9%\n",
      "-VaR(1-q)     -9.63009 -13.6284 -15.5442\n",
      "-VaR in Value -96300.9  -136284  -155442\n"
     ]
    }
   ],
   "source": [
    "mc_VaR, mc_returns, mc_A = ov_get_monte_carlo_VaR(df2)"
   ]
  },
  {
   "cell_type": "markdown",
   "metadata": {},
   "source": [
    "One cool feature is that we can actually visualize the simulated paths:"
   ]
  },
  {
   "cell_type": "code",
   "execution_count": 153,
   "metadata": {},
   "outputs": [],
   "source": [
    "def one_asset_Monte_Carlo_paths(matrix):\n",
    "    '''\n",
    "    DESC.: Takes a given matrix and plots simulated paths together with the mean\n",
    "    \n",
    "    INPUT: matrix with simulated paths\n",
    "    \n",
    "    - Calculate mean path of given paths\n",
    "    - Plot paths together with mean\n",
    "    \n",
    "    OUTPUT: plot with colors according to relative position w/ the mean\n",
    "    '''\n",
    "    mean_Paths = np.zeros(len(matrix))\n",
    "    \n",
    "    for i in range(len(matrix)):\n",
    "        mean_Paths[i] = np.mean(matrix[i, :])\n",
    "        \n",
    "    plt.plot(matrix)\n",
    "    plt.plot(mean_Paths, color = 'lime', linestyle = 'dashed', linewidth = 4.5)\n",
    "    plt.title(\"Simulated Paths\")\n",
    "    \n",
    "    return mean_Paths"
   ]
  },
  {
   "cell_type": "code",
   "execution_count": 154,
   "metadata": {},
   "outputs": [
    {
     "data": {
      "image/png": "[encoded data removed]",
      "text/plain": [
       "<Figure size 432x288 with 1 Axes>"
      ]
     },
     "metadata": {
      "needs_background": "light"
     },
     "output_type": "display_data"
    }
   ],
   "source": [
    "one_asset_Monte_Carlo_paths(mc_A)"
   ]
  },
  {
   "cell_type": "code",
   "execution_count": null,
   "metadata": {},
   "outputs": [],
   "source": []
  },
  {
   "cell_type": "code",
   "execution_count": null,
   "metadata": {},
   "outputs": [],
   "source": []
  },
  {
   "cell_type": "code",
   "execution_count": null,
   "metadata": {},
   "outputs": [],
   "source": []
  },
  {
   "cell_type": "code",
   "execution_count": null,
   "metadata": {},
   "outputs": [],
   "source": []
  },
  {
   "cell_type": "code",
   "execution_count": null,
   "metadata": {},
   "outputs": [],
   "source": []
  },
  {
   "cell_type": "code",
   "execution_count": 87,
   "metadata": {},
   "outputs": [
    {
     "data": {
      "text/plain": [
       "array([0., 0., 0., 0., 0., 0., 0., 0., 0., 0.])"
      ]
     },
     "execution_count": 87,
     "metadata": {},
     "output_type": "execute_result"
    }
   ],
   "source": [
    "n = 5\n",
    "m = 10\n",
    "\n",
    "A = np.zeros((n, m))\n",
    "\n",
    "A[0][0]\n",
    "\n",
    "for i in range(n):\n",
    "    for j in range(m):\n",
    "        A[i][j] = i\n",
    "        \n",
    "A[0][:]"
   ]
  },
  {
   "cell_type": "code",
   "execution_count": 88,
   "metadata": {},
   "outputs": [
    {
     "data": {
      "text/plain": [
       "array([[0., 0., 0., 0., 0., 0., 0., 0., 0., 0.],\n",
       "       [1., 1., 1., 1., 1., 1., 1., 1., 1., 1.],\n",
       "       [2., 2., 2., 2., 2., 2., 2., 2., 2., 2.],\n",
       "       [3., 3., 3., 3., 3., 3., 3., 3., 3., 3.],\n",
       "       [4., 4., 4., 4., 4., 4., 4., 4., 4., 4.]])"
      ]
     },
     "execution_count": 88,
     "metadata": {},
     "output_type": "execute_result"
    }
   ],
   "source": [
    "A"
   ]
  },
  {
   "cell_type": "code",
   "execution_count": 89,
   "metadata": {},
   "outputs": [
    {
     "data": {
      "text/plain": [
       "67.4800033569336"
      ]
     },
     "execution_count": 89,
     "metadata": {},
     "output_type": "execute_result"
    }
   ],
   "source": [
    "base = df2['adj_close'].iloc[-1]\n",
    "base"
   ]
  },
  {
   "cell_type": "code",
   "execution_count": 90,
   "metadata": {},
   "outputs": [
    {
     "data": {
      "text/plain": [
       "array([67.48000336, 67.48000336, 67.48000336, 67.48000336, 67.48000336,\n",
       "       67.48000336, 67.48000336, 67.48000336, 67.48000336, 67.48000336])"
      ]
     },
     "execution_count": 90,
     "metadata": {},
     "output_type": "execute_result"
    }
   ],
   "source": [
    "vector_base = np.repeat(base, 10)\n",
    "vector_base"
   ]
  },
  {
   "cell_type": "code",
   "execution_count": 92,
   "metadata": {},
   "outputs": [],
   "source": [
    "vector_1 = np.zeros(len(vector_base))"
   ]
  },
  {
   "cell_type": "code",
   "execution_count": 94,
   "metadata": {},
   "outputs": [
    {
     "data": {
      "text/plain": [
       "array([68.09634193, 64.44574142, 68.74553968, 68.00290479, 66.92827068,\n",
       "       67.45126542, 66.41710556, 67.57571374, 69.18184912, 67.79891788])"
      ]
     },
     "execution_count": 94,
     "metadata": {},
     "output_type": "execute_result"
    }
   ],
   "source": [
    "Z = np.zeros(len(vector_base))\n",
    "\n",
    "for i in range(len(Z)):\n",
    "    Z[i] = ((media - 0.5*(stdev**2)) * factor) + (stdev * norm.ppf(np.random.uniform(0, 1)))\n",
    "    \n",
    "vector_1 = vector_base * np.exp(Z)\n",
    "vector_1\n"
   ]
  },
  {
   "cell_type": "code",
   "execution_count": null,
   "metadata": {},
   "outputs": [],
   "source": []
  },
  {
   "cell_type": "code",
   "execution_count": null,
   "metadata": {},
   "outputs": [],
   "source": []
  },
  {
   "cell_type": "code",
   "execution_count": 101,
   "metadata": {},
   "outputs": [
    {
     "data": {
      "text/plain": [
       "array([[67.48000336, 67.48000336, 67.48000336, 67.48000336, 67.48000336,\n",
       "        67.48000336, 67.48000336, 67.48000336, 67.48000336, 67.48000336],\n",
       "       [ 0.        ,  0.        ,  0.        ,  0.        ,  0.        ,\n",
       "         0.        ,  0.        ,  0.        ,  0.        ,  0.        ],\n",
       "       [ 0.        ,  0.        ,  0.        ,  0.        ,  0.        ,\n",
       "         0.        ,  0.        ,  0.        ,  0.        ,  0.        ],\n",
       "       [ 0.        ,  0.        ,  0.        ,  0.        ,  0.        ,\n",
       "         0.        ,  0.        ,  0.        ,  0.        ,  0.        ]])"
      ]
     },
     "execution_count": 101,
     "metadata": {},
     "output_type": "execute_result"
    }
   ],
   "source": [
    "m = 4\n",
    "n = 10\n",
    "\n",
    "### Matrix de m x n\n",
    "forma_A = (m, n)\n",
    "\n",
    "### matriz A de forma m xn\n",
    "A = np.zeros(forma_A)\n",
    "\n",
    "A[0] = vector_base\n",
    "\n",
    "A"
   ]
  },
  {
   "cell_type": "code",
   "execution_count": 103,
   "metadata": {},
   "outputs": [
    {
     "data": {
      "text/plain": [
       "array([[-0.0069293 , -0.0186274 ,  0.00603026, -0.03095339, -0.00194993,\n",
       "         0.02396748, -0.00604338, -0.01655959,  0.00232096, -0.01237245],\n",
       "       [ 0.03491683,  0.01130671, -0.00224485,  0.04375639,  0.03706421,\n",
       "         0.0092543 ,  0.01160712, -0.04079883,  0.022677  , -0.01330632],\n",
       "       [-0.01365544, -0.01084184, -0.01178931,  0.02798866,  0.02294412,\n",
       "        -0.00086714,  0.00030033, -0.01501163,  0.01449694,  0.01370467]])"
      ]
     },
     "execution_count": 103,
     "metadata": {},
     "output_type": "execute_result"
    }
   ],
   "source": [
    "forma_Z = (m-1, n)\n",
    "\n",
    "Z = np.zeros(forma_Z)\n",
    "\n",
    "for i in range(m-1):\n",
    "    for j in range(n):\n",
    "        Z[i][j] = ((media - 0.5*(stdev**2)) * factor) + (stdev * norm.ppf(np.random.uniform(0, 1)))\n",
    "        \n",
    "Z"
   ]
  },
  {
   "cell_type": "code",
   "execution_count": 105,
   "metadata": {},
   "outputs": [
    {
     "data": {
      "text/plain": [
       "array([[67.48000336, 67.48000336, 67.48000336, 67.48000336, 67.48000336,\n",
       "        67.48000336, 67.48000336, 67.48000336, 67.48000336, 67.48000336],\n",
       "       [67.01403071, 66.23466115, 67.88815471, 65.42326455, 67.34855009,\n",
       "        69.11686671, 67.07342557, 66.37176335, 67.63680376, 66.65025366],\n",
       "       [69.39527911, 66.98780688, 67.73592679, 68.34950447, 69.89160783,\n",
       "        69.75946359, 67.85649061, 63.71836856, 69.18812671, 65.76925814],\n",
       "       [68.45409654, 66.26545873, 66.94205566, 70.28953864, 71.51374768,\n",
       "        69.6989987 , 67.87687302, 62.76899573, 70.1984487 , 66.67680897]])"
      ]
     },
     "execution_count": 105,
     "metadata": {},
     "output_type": "execute_result"
    }
   ],
   "source": [
    "for i in range(m-1):\n",
    "    for j in range(n):\n",
    "        A[i+1][j] = A[i][j] * np.exp(Z[i][j])\n",
    "\n",
    "A"
   ]
  },
  {
   "cell_type": "code",
   "execution_count": 109,
   "metadata": {},
   "outputs": [
    {
     "name": "stdout",
     "output_type": "stream",
     "text": [
      "Número de renglones de A:  4\n",
      "Número de columnas de A:  10\n"
     ]
    }
   ],
   "source": [
    "print(\"Número de renglones de A: \", len(A))\n",
    "print(\"Número de columnas de A: \", len(A[0]))"
   ]
  },
  {
   "cell_type": "code",
   "execution_count": 110,
   "metadata": {},
   "outputs": [
    {
     "data": {
      "text/plain": [
       "array([0., 0., 0., 0., 0., 0., 0., 0., 0., 0.])"
      ]
     },
     "execution_count": 110,
     "metadata": {},
     "output_type": "execute_result"
    }
   ],
   "source": [
    "rt = np.zeros(n)\n",
    "rt"
   ]
  },
  {
   "cell_type": "code",
   "execution_count": 115,
   "metadata": {},
   "outputs": [
    {
     "data": {
      "text/plain": [
       "array([ 0.01433209, -0.01816253, -0.0080039 ,  0.04079167,  0.0580584 ,\n",
       "        0.03235464,  0.00586407, -0.07237005,  0.03949491, -0.01197411])"
      ]
     },
     "execution_count": 115,
     "metadata": {},
     "output_type": "execute_result"
    }
   ],
   "source": [
    "rt = np.log(A[-1] / A[0])\n",
    "rt"
   ]
  },
  {
   "cell_type": "code",
   "execution_count": 128,
   "metadata": {},
   "outputs": [
    {
     "data": {
      "text/plain": [
       "array([67.48000336, 67.07577743, 67.86518327, 68.06850224])"
      ]
     },
     "execution_count": 128,
     "metadata": {},
     "output_type": "execute_result"
    }
   ],
   "source": [
    "medias_simuladas = np.zeros(m)\n",
    "\n",
    "for i in range(m):\n",
    "    medias_simuladas[i] = np.mean(A[i, :])\n",
    "\n",
    "medias_simuladas"
   ]
  },
  {
   "cell_type": "code",
   "execution_count": 138,
   "metadata": {},
   "outputs": [
    {
     "data": {
      "text/plain": [
       "[<matplotlib.lines.Line2D at 0x201c3969390>]"
      ]
     },
     "execution_count": 138,
     "metadata": {},
     "output_type": "execute_result"
    },
    {
     "data": {
      "image/png": "[encoded data removed]",
      "text/plain": [
       "<Figure size 432x288 with 1 Axes>"
      ]
     },
     "metadata": {
      "needs_background": "light"
     },
     "output_type": "display_data"
    }
   ],
   "source": [
    "plt.plot(A)\n",
    "plt.plot(medias_simuladas, color = 'lime', linestyle = 'dashed', linewidth = 3.5)"
   ]
  },
  {
   "cell_type": "code",
   "execution_count": 144,
   "metadata": {},
   "outputs": [
    {
     "data": {
      "text/plain": [
       "array([  0.,   1.,   4.,   9.,  16.,  25.,  36.,  49.,  64.,  81., 100.])"
      ]
     },
     "execution_count": 144,
     "metadata": {},
     "output_type": "execute_result"
    }
   ],
   "source": [
    "def f_1(x):\n",
    "    A = np.zeros((2,2))\n",
    "    res = x**2\n",
    "    \n",
    "    return A, res\n",
    "\n",
    "x = np.linspace(0, 10, 11)\n",
    "\n",
    "matriz, vector = f_1(x)\n",
    "\n",
    "vector"
   ]
  },
  {
   "cell_type": "code",
   "execution_count": null,
   "metadata": {},
   "outputs": [],
   "source": []
  },
  {
   "cell_type": "code",
   "execution_count": null,
   "metadata": {},
   "outputs": [],
   "source": []
  },
  {
   "cell_type": "code",
   "execution_count": null,
   "metadata": {},
   "outputs": [],
   "source": []
  },
  {
   "cell_type": "code",
   "execution_count": null,
   "metadata": {},
   "outputs": [],
   "source": []
  },
  {
   "cell_type": "code",
   "execution_count": null,
   "metadata": {},
   "outputs": [],
   "source": []
  },
  {
   "cell_type": "markdown",
   "metadata": {},
   "source": [
    "# Parte correspondiente al curso, última update el 20/09/2019"
   ]
  },
  {
   "cell_type": "markdown",
   "metadata": {},
   "source": [
    "## Bloque inicial"
   ]
  },
  {
   "cell_type": "code",
   "execution_count": 3,
   "metadata": {},
   "outputs": [],
   "source": [
    "import numpy as np                  # Vectores\n",
    "import pandas as pd                 # DataFrames\n",
    "import matplotlib.pyplot as plt     # Gráficas\n",
    "import math                         # Operaciones\n",
    "from scipy import stats             # Paquetería estadística\n",
    "from scipy.stats import kstest      # Prueba de Kolmogorov-Smirnov\n",
    "from scipy.stats import beta        # Distribución Beta\n",
    "from scipy.stats import expon       # Distribución Exponencial\n",
    "from scipy.stats import norm        # Distribución Normal\n",
    "\n",
    "%matplotlib inline   "
   ]
  },
  {
   "cell_type": "markdown",
   "metadata": {},
   "source": [
    "- Consideraremos valores diarios, así que declaramos vectores de 365"
   ]
  },
  {
   "cell_type": "code",
   "execution_count": 22,
   "metadata": {},
   "outputs": [],
   "source": [
    "### LLenamos vector con valores tomados de la Normal Inversa (0, 1)\n",
    "mu = 0.005     ### mu de Black-Scholes\n",
    "sigma = 0.02   ### sigma de Black-Scholes\n",
    "n = 365        ### tamaño del vector\n",
    "S0 = 40        ### Precio inicial\n",
    "\n",
    "Nt = np.zeros(n)\n",
    "Wt = np.zeros(n)\n",
    "\n",
    "for i in range(0, len(Nt)-1):\n",
    "    Nt[i] = np.random.uniform(0,1)\n",
    "\n",
    "Wt = norm.ppf(Nt)"
   ]
  },
  {
   "cell_type": "markdown",
   "metadata": {},
   "source": [
    "2. Construimos vector de valores acumulados (trayectoria) de $W_{t}$\n"
   ]
  },
  {
   "cell_type": "code",
   "execution_count": 15,
   "metadata": {},
   "outputs": [],
   "source": [
    "trayWt = np.zeros(n)\n",
    "trayWt[0] = Wt[0]\n",
    "for i in range(0, len(trayWt)-1):\n",
    "    trayWt[i+1] = trayWt[i] + Wt[i+1] \n"
   ]
  },
  {
   "cell_type": "markdown",
   "metadata": {},
   "source": [
    "3. Construimos el vector de $\\mu + \\sigma W_{t}$"
   ]
  },
  {
   "cell_type": "code",
   "execution_count": 19,
   "metadata": {},
   "outputs": [],
   "source": [
    "muSigmaWt = np.zeros(n)\n",
    "for i in range(0, len(muSigmaWt)-1):\n",
    "    muSigmaWt[i] = mu + sigma*Wt[i]\n"
   ]
  },
  {
   "cell_type": "markdown",
   "metadata": {},
   "source": [
    "4. Construimos trayectorias de $\\mu + \\sigma W_{t}$"
   ]
  },
  {
   "cell_type": "code",
   "execution_count": 21,
   "metadata": {},
   "outputs": [],
   "source": [
    "trayMuSigmaWt = np.zeros(n)\n",
    "trayMuSigmaWt[0] = muSigmaWt[0]\n",
    "for i in range(0, len(trayMuSigmaWt)-1):\n",
    "    trayMuSigmaWt[i+1] = trayMuSigmaWt[i] + muSigmaWt[i+1]"
   ]
  },
  {
   "cell_type": "code",
   "execution_count": null,
   "metadata": {},
   "outputs": [],
   "source": []
  }
 ],
 "metadata": {
  "kernelspec": {
   "display_name": "Python 3",
   "language": "python",
   "name": "python3"
  },
  "language_info": {
   "codemirror_mode": {
    "name": "ipython",
    "version": 3
   },
   "file_extension": ".py",
   "mimetype": "text/x-python",
   "name": "python",
   "nbconvert_exporter": "python",
   "pygments_lexer": "ipython3",
   "version": "3.7.3"
  }
 },
 "nbformat": 4,
 "nbformat_minor": 2
}
